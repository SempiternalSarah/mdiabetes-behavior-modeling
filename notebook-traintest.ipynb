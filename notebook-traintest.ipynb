{
 "cells": [
  {
   "cell_type": "code",
   "execution_count": 1,
   "id": "23791e19-fa29-4321-9a92-62c66249e206",
   "metadata": {
    "tags": []
   },
   "outputs": [],
   "source": [
    "from experiment import Experiment\n",
    "from utils.behavior_data import BehaviorData\n",
    "from visuals import Plotter\n",
    "import torch\n",
    "import numpy as np\n",
    "from utils.state_data import StateData\n",
    "import matplotlib.pyplot as plt"
   ]
  },
  {
   "cell_type": "code",
   "execution_count": 2,
   "id": "a6ccab30-3fb9-4990-8492-e7d81a539a5f",
   "metadata": {
    "tags": []
   },
   "outputs": [
    {
     "name": "stdout",
     "output_type": "stream",
     "text": [
      "0\t [0.0621940903365612]\n",
      "5\t [0.06459156423807144]\n",
      "10\t [0.058073289692401886]\n",
      "15\t [0.054719582200050354]\n",
      "20\t [0.0545811727643013]\n",
      "25\t [0.05343420058488846]\n",
      "30\t [0.05309987813234329]\n",
      "35\t [0.052540961652994156]\n",
      "40\t [0.05193532258272171]\n",
      "45\t [0.051431115716695786]\n",
      "50\t [0.05081016942858696]\n",
      "55\t [0.05018020421266556]\n",
      "59\t [0.04965464770793915]\n",
      "0\t [0.0700846016407013]\n",
      "5\t [0.0770307406783104]\n",
      "10\t [0.06149429827928543]\n",
      "15\t [0.05566294491291046]\n",
      "20\t [0.05388316884636879]\n",
      "25\t [0.053156524896621704]\n",
      "30\t [0.05156274139881134]\n",
      "35\t [0.050725094974040985]\n",
      "40\t [0.04958826303482056]\n",
      "45\t [0.04883265495300293]\n",
      "50\t [0.04793207719922066]\n",
      "55\t [0.047094061970710754]\n",
      "59\t [0.0463588647544384]\n",
      "0\t [0.06183649227023125]\n",
      "5\t [0.08371064066886902]\n",
      "10\t [0.06019105389714241]\n",
      "15\t [0.05491851642727852]\n",
      "20\t [0.053919289261102676]\n",
      "25\t [0.0515030175447464]\n",
      "30\t [0.050927307456731796]\n",
      "35\t [0.04982897266745567]\n",
      "40\t [0.04885754734277725]\n",
      "45\t [0.04781739413738251]\n",
      "50\t [0.04663451388478279]\n",
      "55\t [0.04550622031092644]\n",
      "59\t [0.04452401399612427]\n",
      "0\t [0.06558562815189362]\n",
      "5\t [0.07741369307041168]\n",
      "10\t [0.06610673666000366]\n",
      "15\t [0.05619025602936745]\n",
      "20\t [0.05495930463075638]\n",
      "25\t [0.051504574716091156]\n",
      "30\t [0.050423212349414825]\n",
      "35\t [0.04881168156862259]\n",
      "40\t [0.04810979217290878]\n",
      "45\t [0.04741472005844116]\n",
      "50\t [0.0468587763607502]\n",
      "55\t [0.04631751775741577]\n",
      "59\t [0.045924317091703415]\n",
      "0\t [0.06718453019857407]\n",
      "5\t [0.06976009160280228]\n",
      "10\t [0.06170129403471947]\n",
      "15\t [0.05920950695872307]\n",
      "20\t [0.05448245257139206]\n",
      "25\t [0.05123019963502884]\n",
      "30\t [0.050069861114025116]\n",
      "35\t [0.04909761995077133]\n",
      "40\t [0.04817088320851326]\n",
      "45\t [0.04735937342047691]\n",
      "50\t [0.04675405099987984]\n",
      "55\t [0.046233683824539185]\n",
      "59\t [0.04582099989056587]\n",
      "0\t [0.07003587484359741]\n",
      "5\t [0.07374458760023117]\n",
      "10\t [0.06120476871728897]\n",
      "15\t [0.057214751839637756]\n",
      "20\t [0.05315285548567772]\n",
      "25\t [0.051852595061063766]\n",
      "30\t [0.05009611323475838]\n",
      "35\t [0.04888958856463432]\n",
      "40\t [0.047957614064216614]\n",
      "45\t [0.04699249938130379]\n",
      "50\t [0.04648052528500557]\n",
      "55\t [0.045830026268959045]\n",
      "59\t [0.0454091913998127]\n",
      "0\t [0.0621940903365612]\n",
      "5\t [0.06459156423807144]\n",
      "10\t [0.058073289692401886]\n",
      "15\t [0.05468502268195152]\n",
      "20\t [0.05450276657938957]\n",
      "25\t [0.05413287878036499]\n",
      "30\t [0.05346842110157013]\n",
      "35\t [0.05286180227994919]\n",
      "40\t [0.05236203223466873]\n",
      "45\t [0.051624324172735214]\n",
      "50\t [0.050975874066352844]\n",
      "55\t [0.05026101693511009]\n",
      "59\t [0.049694597721099854]\n",
      "0\t [0.0700846016407013]\n",
      "5\t [0.0770307406783104]\n",
      "10\t [0.06149429827928543]\n",
      "15\t [0.057368725538253784]\n",
      "20\t [0.05492091551423073]\n",
      "25\t [0.05379919335246086]\n",
      "30\t [0.05221474543213844]\n",
      "35\t [0.051673773676157]\n",
      "40\t [0.05039438232779503]\n",
      "45\t [0.0497380867600441]\n",
      "50\t [0.04888628050684929]\n",
      "55\t [0.04814768210053444]\n",
      "59\t [0.04747465252876282]\n",
      "0\t [0.06183649227023125]\n",
      "5\t [0.08371064066886902]\n",
      "10\t [0.06019105389714241]\n",
      "15\t [0.05514197796583176]\n",
      "20\t [0.054090771824121475]\n",
      "25\t [0.05198891833424568]\n",
      "30\t [0.05149996280670166]\n",
      "35\t [0.05028335377573967]\n",
      "40\t [0.04938962683081627]\n",
      "45\t [0.048420440405607224]\n",
      "50\t [0.04744311794638634]\n",
      "55\t [0.0464157871901989]\n",
      "59\t [0.04561528190970421]\n",
      "0\t [0.06558562815189362]\n",
      "5\t [0.07741369307041168]\n",
      "10\t [0.06610673666000366]\n",
      "15\t [0.05904700979590416]\n",
      "20\t [0.056141410022974014]\n",
      "25\t [0.05223684757947922]\n",
      "30\t [0.05068771541118622]\n",
      "35\t [0.049909599125385284]\n",
      "40\t [0.04852147027850151]\n",
      "45\t [0.04777929186820984]\n",
      "50\t [0.047236938029527664]\n",
      "55\t [0.04669849947094917]\n",
      "59\t [0.046297214925289154]\n",
      "0\t [0.06718453019857407]\n",
      "5\t [0.06976009160280228]\n",
      "10\t [0.06170129403471947]\n",
      "15\t [0.05876784399151802]\n",
      "20\t [0.054183825850486755]\n",
      "25\t [0.05146065726876259]\n",
      "30\t [0.050628192722797394]\n",
      "35\t [0.049574971199035645]\n",
      "40\t [0.04847190901637077]\n",
      "45\t [0.04784201458096504]\n",
      "50\t [0.047214262187480927]\n",
      "55\t [0.04667232185602188]\n",
      "59\t [0.04629628360271454]\n",
      "0\t [0.07003587484359741]\n",
      "5\t [0.07374458760023117]\n",
      "10\t [0.06120476871728897]\n",
      "15\t [0.05874576047062874]\n",
      "20\t [0.054621171206235886]\n",
      "25\t [0.05224739387631416]\n",
      "30\t [0.050911176949739456]\n",
      "35\t [0.049268994480371475]\n",
      "40\t [0.04855009540915489]\n",
      "45\t [0.04739953950047493]\n",
      "50\t [0.04677676409482956]\n",
      "55\t [0.04620758444070816]\n",
      "59\t [0.045791320502758026]\n",
      "0\t [0.06555626541376114]\n",
      "5\t [0.06577486544847488]\n",
      "10\t [0.05710136517882347]\n",
      "15\t [0.05426299199461937]\n",
      "20\t [0.05312638729810715]\n",
      "25\t [0.052109941840171814]\n",
      "30\t [0.051013752818107605]\n",
      "35\t [0.04983193427324295]\n",
      "40\t [0.04847520962357521]\n",
      "45\t [0.04710570350289345]\n",
      "50\t [0.04569701850414276]\n",
      "55\t [0.04430512711405754]\n",
      "59\t [0.043210219591856]\n",
      "0\t [0.06710070371627808]\n",
      "5\t [0.06792406737804413]\n",
      "10\t [0.0561026893556118]\n",
      "15\t [0.05436544120311737]\n",
      "20\t [0.05216948315501213]\n",
      "25\t [0.05110793188214302]\n",
      "30\t [0.04967077821493149]\n",
      "35\t [0.04841196537017822]\n",
      "40\t [0.047170329838991165]\n",
      "45\t [0.04587668925523758]\n",
      "50\t [0.044608261436223984]\n",
      "55\t [0.043368637561798096]\n",
      "59\t [0.04239774867892265]\n",
      "0\t [0.06327377259731293]\n",
      "5\t [0.07337088882923126]\n",
      "10\t [0.054940786212682724]\n",
      "15\t [0.05434619262814522]\n",
      "20\t [0.05147885903716087]\n",
      "25\t [0.0503285750746727]\n",
      "30\t [0.049091313034296036]\n",
      "35\t [0.047528985887765884]\n",
      "40\t [0.04603348672389984]\n",
      "45\t [0.04444803670048714]\n",
      "50\t [0.042832471430301666]\n",
      "55\t [0.041253577917814255]\n",
      "59\t [0.040019236505031586]\n",
      "0\t [0.06393737345933914]\n",
      "5\t [0.061816535890102386]\n",
      "10\t [0.055152151733636856]\n",
      "15\t [0.05354472994804382]\n",
      "20\t [0.05165179818868637]\n",
      "25\t [0.05001691356301308]\n",
      "30\t [0.048552870750427246]\n",
      "35\t [0.047682441771030426]\n",
      "40\t [0.04697731137275696]\n",
      "45\t [0.04633289948105812]\n",
      "50\t [0.04578882455825806]\n",
      "55\t [0.04527918994426727]\n",
      "59\t [0.04490403085947037]\n",
      "0\t [0.0704684630036354]\n",
      "5\t [0.057598818093538284]\n",
      "10\t [0.05488678440451622]\n",
      "15\t [0.051749344915151596]\n",
      "20\t [0.050250113010406494]\n",
      "25\t [0.04885358363389969]\n",
      "30\t [0.04764697328209877]\n",
      "35\t [0.04677322134375572]\n",
      "40\t [0.04596304893493652]\n",
      "45\t [0.04534237086772919]\n",
      "50\t [0.04483218491077423]\n",
      "55\t [0.044368844479322433]\n",
      "59\t [0.04402196407318115]\n",
      "0\t [0.06336657702922821]\n",
      "5\t [0.05892270803451538]\n",
      "10\t [0.05511855334043503]\n",
      "15\t [0.05224568769335747]\n",
      "20\t [0.050809044390916824]\n",
      "25\t [0.04912995174527168]\n",
      "30\t [0.04806572571396828]\n",
      "35\t [0.047204505652189255]\n",
      "40\t [0.046321045607328415]\n",
      "45\t [0.04567796736955643]\n",
      "50\t [0.0451112762093544]\n",
      "55\t [0.04464239627122879]\n",
      "59\t [0.04427062347531319]\n",
      "0\t [0.06555626541376114]\n",
      "5\t [0.06577486544847488]\n",
      "10\t [0.05710136517882347]\n",
      "15\t [0.054680678993463516]\n",
      "20\t [0.05311806872487068]\n",
      "25\t [0.05253705009818077]\n",
      "30\t [0.05134276673197746]\n",
      "35\t [0.0499982088804245]\n",
      "40\t [0.04881638288497925]\n",
      "45\t [0.04754028096795082]\n",
      "50\t [0.0463230237364769]\n",
      "55\t [0.045156341046094894]\n",
      "59\t [0.04417438432574272]\n",
      "0\t [0.06710070371627808]\n",
      "5\t [0.06792406737804413]\n",
      "10\t [0.0561026893556118]\n",
      "15\t [0.05421824008226395]\n",
      "20\t [0.052747420966625214]\n",
      "25\t [0.051634516566991806]\n",
      "30\t [0.05031392350792885]\n",
      "35\t [0.04910820350050926]\n",
      "40\t [0.047804124653339386]\n",
      "45\t [0.04655543714761734]\n",
      "50\t [0.045405738055706024]\n",
      "55\t [0.04427483677864075]\n",
      "59\t [0.04340308532118797]\n"
     ]
    },
    {
     "name": "stderr",
     "output_type": "stream",
     "text": [
      "C:\\Users\\andre\\Code\\HealthLearning\\mdiabetes-behavior-modeling\\visuals.py:22: RuntimeWarning: More than 20 figures have been opened. Figures created through the pyplot interface (`matplotlib.pyplot.figure`) are retained until explicitly closed and may consume too much memory. (To control this warning, see the rcParam `figure.max_open_warning`).\n",
      "  edgecolor=\"w\", facecolor=\"w\", **kw)\n"
     ]
    },
    {
     "name": "stdout",
     "output_type": "stream",
     "text": [
      "0\t [0.06327377259731293]\n",
      "5\t [0.07337088882923126]\n",
      "10\t [0.054940786212682724]\n",
      "15\t [0.05442417040467262]\n",
      "20\t [0.051702652126550674]\n",
      "25\t [0.05076609179377556]\n",
      "30\t [0.0494062639772892]\n",
      "35\t [0.048072442412376404]\n",
      "40\t [0.046675536781549454]\n",
      "45\t [0.04532046988606453]\n",
      "50\t [0.043967340141534805]\n",
      "55\t [0.04265579953789711]\n",
      "59\t [0.041597768664360046]\n",
      "0\t [0.06393737345933914]\n",
      "5\t [0.061816535890102386]\n",
      "10\t [0.055152151733636856]\n",
      "15\t [0.05456249415874481]\n",
      "20\t [0.05311819538474083]\n",
      "25\t [0.05082619562745094]\n",
      "30\t [0.049834202975034714]\n",
      "35\t [0.04876958206295967]\n",
      "40\t [0.047738008201122284]\n",
      "45\t [0.04700455442070961]\n",
      "50\t [0.046462103724479675]\n",
      "55\t [0.046005599200725555]\n",
      "59\t [0.04565713554620743]\n",
      "0\t [0.0704684630036354]\n",
      "5\t [0.057598818093538284]\n",
      "10\t [0.05488678440451622]\n",
      "15\t [0.05366332083940506]\n",
      "20\t [0.051504410803318024]\n",
      "25\t [0.04957098886370659]\n",
      "30\t [0.04796818271279335]\n",
      "35\t [0.047139279544353485]\n",
      "40\t [0.04657606780529022]\n",
      "45\t [0.04592272266745567]\n",
      "50\t [0.04533335939049721]\n",
      "55\t [0.04489744082093239]\n",
      "59\t [0.04455588385462761]\n",
      "0\t [0.06336657702922821]\n",
      "5\t [0.05892270803451538]\n",
      "10\t [0.05511855334043503]\n",
      "15\t [0.05472385510802269]\n",
      "20\t [0.052669957280159]\n",
      "25\t [0.05050797015428543]\n",
      "30\t [0.04868226870894432]\n",
      "35\t [0.04795632138848305]\n",
      "40\t [0.047054797410964966]\n",
      "45\t [0.046319957822561264]\n",
      "50\t [0.04572194069623947]\n",
      "55\t [0.04530835896730423]\n",
      "59\t [0.04495572671294212]\n"
     ]
    },
    {
     "data": {
      "text/plain": [
       "<Figure size 640x480 with 0 Axes>"
      ]
     },
     "metadata": {},
     "output_type": "display_data"
    },
    {
     "data": {
      "text/plain": [
       "<Figure size 640x480 with 0 Axes>"
      ]
     },
     "metadata": {},
     "output_type": "display_data"
    },
    {
     "data": {
      "text/plain": [
       "<Figure size 640x480 with 0 Axes>"
      ]
     },
     "metadata": {},
     "output_type": "display_data"
    },
    {
     "data": {
      "text/plain": [
       "<Figure size 640x480 with 0 Axes>"
      ]
     },
     "metadata": {},
     "output_type": "display_data"
    },
    {
     "data": {
      "text/plain": [
       "<Figure size 640x480 with 0 Axes>"
      ]
     },
     "metadata": {},
     "output_type": "display_data"
    },
    {
     "data": {
      "text/plain": [
       "<Figure size 640x480 with 0 Axes>"
      ]
     },
     "metadata": {},
     "output_type": "display_data"
    },
    {
     "data": {
      "text/plain": [
       "<Figure size 640x480 with 0 Axes>"
      ]
     },
     "metadata": {},
     "output_type": "display_data"
    },
    {
     "data": {
      "text/plain": [
       "<Figure size 640x480 with 0 Axes>"
      ]
     },
     "metadata": {},
     "output_type": "display_data"
    },
    {
     "data": {
      "text/plain": [
       "<Figure size 640x480 with 0 Axes>"
      ]
     },
     "metadata": {},
     "output_type": "display_data"
    },
    {
     "data": {
      "text/plain": [
       "<Figure size 640x480 with 0 Axes>"
      ]
     },
     "metadata": {},
     "output_type": "display_data"
    },
    {
     "data": {
      "text/plain": [
       "<Figure size 640x480 with 0 Axes>"
      ]
     },
     "metadata": {},
     "output_type": "display_data"
    },
    {
     "data": {
      "text/plain": [
       "<Figure size 640x480 with 0 Axes>"
      ]
     },
     "metadata": {},
     "output_type": "display_data"
    },
    {
     "data": {
      "text/plain": [
       "<Figure size 640x480 with 0 Axes>"
      ]
     },
     "metadata": {},
     "output_type": "display_data"
    },
    {
     "data": {
      "text/plain": [
       "<Figure size 640x480 with 0 Axes>"
      ]
     },
     "metadata": {},
     "output_type": "display_data"
    },
    {
     "data": {
      "text/plain": [
       "<Figure size 640x480 with 0 Axes>"
      ]
     },
     "metadata": {},
     "output_type": "display_data"
    },
    {
     "data": {
      "text/plain": [
       "<Figure size 640x480 with 0 Axes>"
      ]
     },
     "metadata": {},
     "output_type": "display_data"
    },
    {
     "data": {
      "text/plain": [
       "<Figure size 640x480 with 0 Axes>"
      ]
     },
     "metadata": {},
     "output_type": "display_data"
    },
    {
     "data": {
      "text/plain": [
       "<Figure size 640x480 with 0 Axes>"
      ]
     },
     "metadata": {},
     "output_type": "display_data"
    },
    {
     "data": {
      "text/plain": [
       "<Figure size 640x480 with 0 Axes>"
      ]
     },
     "metadata": {},
     "output_type": "display_data"
    },
    {
     "data": {
      "text/plain": [
       "<Figure size 640x480 with 0 Axes>"
      ]
     },
     "metadata": {},
     "output_type": "display_data"
    },
    {
     "data": {
      "text/plain": [
       "<Figure size 640x480 with 0 Axes>"
      ]
     },
     "metadata": {},
     "output_type": "display_data"
    },
    {
     "data": {
      "text/plain": [
       "<Figure size 640x480 with 0 Axes>"
      ]
     },
     "metadata": {},
     "output_type": "display_data"
    },
    {
     "data": {
      "text/plain": [
       "<Figure size 640x480 with 0 Axes>"
      ]
     },
     "metadata": {},
     "output_type": "display_data"
    },
    {
     "data": {
      "text/plain": [
       "<Figure size 640x480 with 0 Axes>"
      ]
     },
     "metadata": {},
     "output_type": "display_data"
    },
    {
     "data": {
      "image/png": "[encoded data removed]",
      "text/plain": [
       "<Figure size 640x480 with 1 Axes>"
      ]
     },
     "metadata": {},
     "output_type": "display_data"
    }
   ],
   "source": [
    "for respond_perc in [.5]:\n",
    "# for respond_perc in [.75, .25]:\n",
    "    # for estate, include_state in [(True, True)]:\n",
    "    for estate, include_state, fullq in [(True, True, True), (True, False, False)]:\n",
    "        for fulls, insertpreds in [(True, False), (True, True)]:\n",
    "            for model, learning_rate, epochs in [(\"BasicNN\", .0024, 60), (\"LogisticRegressor\", .003, 60)]:\n",
    "            # for model, learning_rate, epochs in [(\"BasicNN\", .0014, 100)]:\n",
    "                # for loss_fn in [\"MSELoss\", \"CrossEntropyLoss\"]:\n",
    "                for loss_fn in [\"MSELoss\"]:\n",
    "                    test_metrics, train_metrics, adjusted_losses = [], [], []\n",
    "                    for seed in range(3):\n",
    "                        np.random.seed(seed)\n",
    "                        torch.manual_seed(seed)\n",
    "                        e = Experiment(\n",
    "                            numValFolds = 5,\n",
    "                            epochsToUpdateLabelMods = 10,\n",
    "                            data_kw={\"minw\": 2,\n",
    "                                    \"maxw\": 29,\n",
    "                                    \"include_state\": include_state,\n",
    "                                    \"include_pid\": False,\n",
    "                                    \"expanded_states\": estate,\n",
    "                                    \"top_respond_perc\": respond_perc,\n",
    "                                     \"full_questionnaire\": fullq,\n",
    "                                     \"full_sequence\": fulls,\n",
    "                                     \"insert_predictions\": insertpreds\n",
    "                                    },\n",
    "                            model=model,\n",
    "                            model_kw={\n",
    "                                \"lossfn\": loss_fn,\n",
    "                                # \"lossfn\": \"NDCG\",\n",
    "                                # \"lossfn\": \"CrossEntropyLoss\",\n",
    "                                \"hidden_size\": 200, \n",
    "                                \"opt_kw\": {\n",
    "                                    \"lr\": learning_rate\n",
    "                                }\n",
    "                            },\n",
    "                            train_kw={\n",
    "                                \"epochs\": epochs,\n",
    "                                \"n_subj\": 500,\n",
    "                                \"rec_every\": 5,\n",
    "                            })\n",
    "\n",
    "                        report = e.run()\n",
    "\n",
    "\n",
    "\n",
    "                        individual_test_scores, labels = e.report_scores_individual_test()\n",
    "                        individual_train_scores, labels = e.report_scores_individual_train()\n",
    "\n",
    "\n",
    "\n",
    "                        dire = \"./experiment_output/\"\n",
    "                        fileprefix = f\"{model}LR{learning_rate}Resp{respond_perc}States{int(include_state)}Expanded{int(estate)}Seq{int(fulls)}Pred{int(insertpreds)}\"\n",
    "                        np.savetxt(f\"{dire}TRAINMETRICS-{fileprefix}S{seed}.csv\", report[\"train_metrics\"], delimiter = ',', header = ','.join(report['metric_labels']))\n",
    "                        np.savetxt(f\"{dire}TESTMETRICS-{fileprefix}S{seed}.csv\", report[\"test_metrics\"], delimiter = ',', header = ','.join(report['metric_labels']))\n",
    "                        np.savetxt(f\"{dire}IDVDTESTMETRICS-{fileprefix}S{seed}.csv\", individual_test_scores, delimiter = ',', header = ','.join(report['metric_labels']))\n",
    "                        np.savetxt(f\"{dire}IDVDTRAINMETRICS-{fileprefix}S{seed}.csv\", individual_train_scores, delimiter = ',', header = ','.join(report['metric_labels']))\n",
    "                        np.savetxt(f\"{dire}TRAINLOSSES-{fileprefix}S{seed}.csv\", report[\"loss\"], delimiter = ',')\n",
    "\n",
    "                        preds1, preds2, preds3 = e.get_class_predictions(False)\n",
    "\n",
    "\n",
    "                        np.savetxt(f\"{dire}TRAINPREDS1-{fileprefix}S{seed}.csv\", preds1, delimiter = ',')\n",
    "                        np.savetxt(f\"{dire}TRAINPREDS2-{fileprefix}S{seed}.csv\", preds2, delimiter = ',')\n",
    "                        np.savetxt(f\"{dire}TRAINPREDS3-{fileprefix}S{seed}.csv\", preds3, delimiter = ',')\n",
    "\n",
    "                        plt.clf()\n",
    "                        splot = plt.hist(preds1)\n",
    "                        plt.title(\"Train Predictions for Class 1\")\n",
    "                        plt.savefig(f\"{dire}/img/C1PredsTrain-{fileprefix}S{seed}.png\")\n",
    "\n",
    "                        plt.clf()\n",
    "                        splot = plt.hist(preds2)\n",
    "                        plt.title(\"Train Predictions for Class 2\")\n",
    "                        plt.savefig(f\"{dire}/img/C2PredsTrain-{fileprefix}S{seed}.png\")\n",
    "\n",
    "                        plt.clf()\n",
    "                        splot = plt.hist(preds3)\n",
    "                        plt.title(\"Train Predictions for Class 3\")\n",
    "                        plt.savefig(f\"{dire}/img/C3PredsTrain-{fileprefix}S{seed}.png\")\n",
    "\n",
    "                        preds1, preds2, preds3 = e.get_class_predictions(True)\n",
    "\n",
    "                        np.savetxt(f\"{dire}TESTPREDS1-{fileprefix}S{seed}.csv\", preds1, delimiter = ',')\n",
    "                        np.savetxt(f\"{dire}TESTPREDS2-{fileprefix}S{seed}.csv\", preds2, delimiter = ',')\n",
    "                        np.savetxt(f\"{dire}TESTPREDS3-{fileprefix}S{seed}.csv\", preds3, delimiter = ',')\n",
    "\n",
    "                        plt.clf()\n",
    "                        splot = plt.hist(preds1)\n",
    "                        plt.title(\"Test Predictions for Class 1\")\n",
    "                        plt.savefig(f\"{dire}/img/C1PredsTest-{fileprefix}S{seed}.png\")\n",
    "\n",
    "                        plt.clf()\n",
    "                        splot = plt.hist(preds2)\n",
    "                        plt.title(\"Test Predictions for Class 2\")\n",
    "                        plt.savefig(f\"{dire}/img/C2PredsTest-{fileprefix}S{seed}.png\")\n",
    "\n",
    "                        plt.clf()\n",
    "                        splot = plt.hist(preds3)\n",
    "                        plt.title(\"Test Predictions for Class 3\")\n",
    "                        plt.savefig(f\"{dire}/img/C3PredsTest-{fileprefix}S{seed}.png\")\n",
    "\n",
    "\n",
    "                        plt.clf()\n",
    "                        splot = plt.scatter(individual_test_scores[:, -1], individual_test_scores[:, labels.index(\"Acc\")])\n",
    "                        plt.title(\"Test Accuracy vs Response Count\")\n",
    "                        plt.savefig(f\"{dire}/img/TestACCvResponse-{fileprefix}S{seed}.png\")\n",
    "                        plt.clf()\n",
    "                        splot = plt.scatter(individual_train_scores[:, -1], individual_train_scores[:, labels.index(\"Acc\")])\n",
    "                        plt.title(\"Train Accuracy vs Response Count\")\n",
    "                        plt.savefig(f\"{dire}/img/TrainACCvResponse-{fileprefix}S{seed}.png\")\n",
    "                        plt.clf()\n",
    "\n",
    "\n",
    "                        writer = open(f\"{dire}ALOSS-{fileprefix}.csv\", \"a\")\n",
    "                        writer.write(\",\".join([str(loss[0]) for loss in report[\"loss\"]]))\n",
    "                        writer.write(\"\\n\")\n",
    "                        writer.close()\n",
    "\n",
    "                        writer = open(f\"{dire}FINALTRAINMETRICS-{fileprefix}.csv\", \"a\")\n",
    "                        writer.write(\",\".join([str(loss) for loss in report[\"train_metrics\"][-1, :]]))\n",
    "                        writer.write(\"\\n\")\n",
    "                        writer.close()\n",
    "\n",
    "                        writer = open(f\"{dire}FINALTESTMETRICS-{fileprefix}.csv\", \"a\")\n",
    "                        writer.write(\",\".join([str(loss) for loss in report[\"test_metrics\"][-1, :]]))\n",
    "                        writer.write(\"\\n\")\n",
    "                        writer.close()\n",
    "\n",
    "                        Plotter.training_loss(report, dire)\n",
    "                        \n",
    "                        plt.close(\"all\")\n",
    "\n"
   ]
  },
  {
   "cell_type": "code",
   "execution_count": 3,
   "id": "9e5619cc-6ebb-4e2e-be55-b2c7468196ec",
   "metadata": {},
   "outputs": [
    {
     "data": {
      "text/plain": [
       "4"
      ]
     },
     "execution_count": 3,
     "metadata": {},
     "output_type": "execute_result"
    }
   ],
   "source": [
    "labels.index(\"Acc\")"
   ]
  }
 ],
 "metadata": {
  "kernelspec": {
   "display_name": "Python 3",
   "language": "python",
   "name": "python3"
  },
  "language_info": {
   "codemirror_mode": {
    "name": "ipython",
    "version": 3
   },
   "file_extension": ".py",
   "mimetype": "text/x-python",
   "name": "python",
   "nbconvert_exporter": "python",
   "pygments_lexer": "ipython3",
   "version": "3.7.13"
  },
  "vscode": {
   "interpreter": {
    "hash": "f6e339f590beffb2e62e02c6be9b431caf4c76db3ef9baeb9786d6033ee27a03"
   }
  }
 },
 "nbformat": 4,
 "nbformat_minor": 5
}
