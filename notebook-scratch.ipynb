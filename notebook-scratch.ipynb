{
 "cells": [
  {
   "cell_type": "code",
   "execution_count": 1,
   "id": "23791e19-fa29-4321-9a92-62c66249e206",
   "metadata": {
    "tags": []
   },
   "outputs": [],
   "source": [
    "from experiment import Experiment\n",
    "from utils.behavior_data import BehaviorData\n",
    "from visuals import Plotter\n",
    "import torch\n",
    "import numpy as np\n",
    "from utils.state_data import StateData\n",
    "import matplotlib.pyplot as plt"
   ]
  },
  {
   "cell_type": "code",
   "execution_count": null,
   "id": "a6ccab30-3fb9-4990-8492-e7d81a539a5f",
   "metadata": {
    "tags": []
   },
   "outputs": [
    {
     "name": "stdout",
     "output_type": "stream",
     "text": [
      "268 537\n",
      "(6904, 38) (6904, 8)\n",
      "AdaptableLSTM(\n",
      "  (lstm): LSTM(38, 200)\n",
      "  (fc_q1): Linear(in_features=200, out_features=3, bias=True)\n",
      "  (fc_q2): Linear(in_features=200, out_features=3, bias=True)\n",
      "  (relu): ReLU()\n",
      ")\n",
      "0\t [0.22435282170772552]\n",
      "5\t [0.20647960901260376]\n",
      "10\t [0.2045901119709015]\n",
      "15\t [0.1998584121465683]\n",
      "20\t [0.1918262392282486]\n",
      "25\t [0.18681631982326508]\n",
      "30\t [0.1856691986322403]\n",
      "35\t [0.17988725006580353]\n",
      "40\t [0.17629101872444153]\n",
      "45\t [0.17149241268634796]\n",
      "50\t [0.16778986155986786]\n",
      "55\t [0.16276471316814423]\n",
      "60\t [0.16011574864387512]\n",
      "65\t [0.15014542639255524]\n",
      "70\t [0.1476132869720459]\n",
      "75\t [0.1360962688922882]\n",
      "80\t [0.1238156333565712]\n",
      "85\t [0.11685342341661453]\n",
      "89\t [0.11089825630187988]\n",
      "tensor([-4.6630e-02,  2.8902e-02, -3.0769e-02, -6.1676e-02, -7.5389e-02,\n",
      "        -1.2693e-01, -2.0562e-01,  3.0873e-02,  4.3846e-03, -9.3837e-02,\n",
      "        -2.8079e-01,  4.9207e-01, -6.8771e-01, -3.0493e-01,  1.7273e-01,\n",
      "        -7.2129e-02,  9.1850e-04, -1.6923e-01, -2.3735e-01, -1.7226e-01,\n",
      "         3.5054e-01, -1.6955e-01, -1.7897e-01, -3.3033e-01, -1.1440e-04,\n",
      "        -5.6519e-02, -3.8117e-01, -1.5741e-01,  2.7824e-01,  2.3013e-02,\n",
      "        -2.7559e-01, -3.7647e-01,  1.0000e+00,  3.9374e-01,  1.9406e-02,\n",
      "         1.3086e-02, -7.4758e-01, -7.4989e-01])\n",
      "tensor([37, 36, 12, 26, 31, 23, 13, 10, 30, 18,  6, 22, 19, 21, 17, 27,  5,  9,\n",
      "         4, 15,  3, 25,  0,  2, 24, 16,  8, 35, 34, 29,  1,  7, 14, 28, 20, 33,\n",
      "        11, 32])\n"
     ]
    }
   ],
   "source": [
    "for respond_perc in [.5]:\n",
    "# for respond_perc in [.75, .25]:\n",
    "    # for estate, include_state in [(True, True)]:\n",
    "    for estate, include_state, fullq in [(False, True, False)]:\n",
    "        for model in [\"AdaptableLSTM\", \"BasicNN\"]:\n",
    "            for learning_rate in [.012]:\n",
    "                test_metrics, train_metrics, adjusted_losses = [], [], []\n",
    "                epochs = 90\n",
    "                if (model != \"AdaptableLSTM\"):\n",
    "                    epochs = 75\n",
    "                    learning_rate *= .2\n",
    "                for seed in range(1):\n",
    "                    np.random.seed(seed)\n",
    "                    torch.manual_seed(seed)\n",
    "                    e = Experiment(\n",
    "                        numValFolds = 5,\n",
    "                        data_kw={\"minw\": 2,\n",
    "                                \"maxw\": 29,\n",
    "                                \"include_state\": include_state,\n",
    "                                \"include_pid\": False,\n",
    "                                \"expanded_states\": estate,\n",
    "                                \"top_respond_perc\": respond_perc,\n",
    "                                 \"full_questionnaire\": fullq\n",
    "                                },\n",
    "                        model=model,\n",
    "                        model_kw={\n",
    "                            \"lossfn\": \"MSELoss\",\n",
    "                            # \"lossfn\": \"NDCG\",\n",
    "                            # \"lossfn\": \"CrossEntropyLoss\",\n",
    "                            \"hidden_size\": 200, \n",
    "                            \"opt_kw\": {\n",
    "                                \"lr\": learning_rate\n",
    "                            }\n",
    "                        },\n",
    "                        train_kw={\n",
    "                            \"epochs\": epochs,\n",
    "                            \"n_subj\": 500,\n",
    "                            \"rec_every\": 5,\n",
    "                        })\n",
    "                    print(e.model)\n",
    "                    report = e.run()\n",
    "\n",
    "                    feature_grads = e.calcFinalGradients()\n",
    "                    print(feature_grads / feature_grads.abs().max())\n",
    "                    print(np.argsort(feature_grads))\n",
    "\n"
   ]
  },
  {
   "cell_type": "code",
   "execution_count": null,
   "id": "09ae3f70-4f4d-418b-8208-0c7205daf384",
   "metadata": {},
   "outputs": [],
   "source": [
    "matplotlib.pyplot(feature_grads / feature_grads.abs().max()"
   ]
  }
 ],
 "metadata": {
  "kernelspec": {
   "display_name": "Python 3",
   "language": "python",
   "name": "python3"
  },
  "language_info": {
   "codemirror_mode": {
    "name": "ipython",
    "version": 3
   },
   "file_extension": ".py",
   "mimetype": "text/x-python",
   "name": "python",
   "nbconvert_exporter": "python",
   "pygments_lexer": "ipython3",
   "version": "3.7.13"
  },
  "vscode": {
   "interpreter": {
    "hash": "f6e339f590beffb2e62e02c6be9b431caf4c76db3ef9baeb9786d6033ee27a03"
   }
  }
 },
 "nbformat": 4,
 "nbformat_minor": 5
}
