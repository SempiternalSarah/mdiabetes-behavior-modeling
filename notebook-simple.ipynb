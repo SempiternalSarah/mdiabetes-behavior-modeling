{
 "cells": [
  {
   "cell_type": "code",
   "execution_count": 1,
   "id": "23791e19-fa29-4321-9a92-62c66249e206",
   "metadata": {
    "tags": []
   },
   "outputs": [],
   "source": [
    "from experiment import Experiment\n",
    "from utils.behavior_data import BehaviorData\n",
    "from visuals import Plotter\n",
    "import torch\n",
    "import numpy as np\n",
    "from utils.state_data import StateData\n",
    "import matplotlib.pyplot as plt"
   ]
  },
  {
   "cell_type": "code",
   "execution_count": 2,
   "id": "a6ccab30-3fb9-4990-8492-e7d81a539a5f",
   "metadata": {
    "tags": []
   },
   "outputs": [
    {
     "name": "stdout",
     "output_type": "stream",
     "text": [
      "54\n",
      "214\n",
      "0\t train loss: 0.1685 train acc: 42.846% test acc: 43.312%\n",
      "5\t train loss: 0.1528 train acc: 51.566% test acc: 51.149%\n",
      "10\t train loss: 0.1499 train acc: 51.630% test acc: 51.208%\n",
      "15\t train loss: 0.1476 train acc: 51.871% test acc: 51.267%\n",
      "20\t train loss: 0.1456 train acc: 52.224% test acc: 51.326%\n",
      "25\t train loss: 0.1438 train acc: 52.610% test acc: 51.326%\n",
      "30\t train loss: 0.1424 train acc: 53.750% test acc: 50.737%\n",
      "35\t train loss: 0.1411 train acc: 54.537% test acc: 50.972%\n",
      "40\t train loss: 0.1399 train acc: 55.532% test acc: 50.972%\n",
      "45\t train loss: 0.1382 train acc: 55.854% test acc: 50.854%\n",
      "50\t train loss: 0.1376 train acc: 56.512% test acc: 50.796%\n",
      "55\t train loss: 0.1366 train acc: 56.705% test acc: 51.031%\n",
      "60\t train loss: 0.1360 train acc: 57.122% test acc: 50.972%\n",
      "65\t train loss: 0.1340 train acc: 57.588% test acc: 50.737%\n",
      "70\t train loss: 0.1335 train acc: 57.973% test acc: 50.619%\n",
      "75\t train loss: 0.1328 train acc: 58.166% test acc: 50.383%\n",
      "80\t train loss: 0.1323 train acc: 58.632% test acc: 50.442%\n",
      "85\t train loss: 0.1310 train acc: 58.889% test acc: 49.971%\n",
      "90\t train loss: 0.1307 train acc: 59.451% test acc: 49.971%\n",
      "95\t train loss: 0.1295 train acc: 59.756% test acc: 49.499%\n",
      "100\t train loss: 0.1288 train acc: 60.013% test acc: 49.087%\n",
      "105\t train loss: 0.1277 train acc: 60.446% test acc: 48.910%\n",
      "110\t train loss: 0.1274 train acc: 60.527% test acc: 48.556%\n",
      "115\t train loss: 0.1264 train acc: 60.800% test acc: 48.379%\n",
      "120\t train loss: 0.1254 train acc: 61.185% test acc: 48.321%\n",
      "125\t train loss: 0.1250 train acc: 61.699% test acc: 48.262%\n",
      "130\t train loss: 0.1241 train acc: 62.052% test acc: 47.967%\n",
      "135\t train loss: 0.1239 train acc: 62.277% test acc: 47.849%\n",
      "140\t train loss: 0.1232 train acc: 62.502% test acc: 47.731%\n",
      "145\t train loss: 0.1226 train acc: 63.048% test acc: 47.319%\n",
      "149\t train loss: 0.1218 train acc: 63.241% test acc: 47.496%\n"
     ]
    }
   ],
   "source": [
    "# model = \"AdaptableLSTM\"\n",
    "model = \"BasicNN\"\n",
    "# model = \"LogisticRegressor\"\n",
    "learning_rate = .0024\n",
    "epochs = 150\n",
    "seed = 1\n",
    "include_state = True\n",
    "estate = True\n",
    "fullq = False\n",
    "respond_perc = .50\n",
    "fullseq = True\n",
    "insertpreds = True\n",
    "noise = .25\n",
    "smooth = .1\n",
    "\n",
    "    \n",
    "np.random.seed(seed)\n",
    "torch.manual_seed(seed)\n",
    "\n",
    "\n",
    "e = Experiment(\n",
    "    numValFolds = 5,\n",
    "    epochsToUpdateLabelMods = 5,\n",
    "    data_kw={\"minw\": 2,\n",
    "            \"maxw\": 29,\n",
    "            \"include_state\": include_state,\n",
    "            \"include_pid\": False,\n",
    "            \"expanded_states\": estate,\n",
    "            \"top_respond_perc\": respond_perc,\n",
    "             \"full_questionnaire\": fullq,\n",
    "             \"full_sequence\": fullseq,\n",
    "             \"insert_predictions\": insertpreds,\n",
    "             \"one_hot_response_features\": True\n",
    "            },\n",
    "    model=model,\n",
    "    model_kw={\n",
    "        \"lossfn\": \"MSELoss\",\n",
    "        # \"lossfn\": \"NDCG\",\n",
    "        # \"lossfn\": \"CrossEntropyLoss\",\n",
    "        \"hidden_size\": 8,\n",
    "        \"lr_step_mult\": .9, \n",
    "        \"lr_step_epochs\": 60,\n",
    "        \"opt_kw\": {\n",
    "            \"lr\": learning_rate,\n",
    "        },\n",
    "        \"labelSmoothPerc\": smooth,\n",
    "        \"gaussianNoiseStd\": noise\n",
    "        \n",
    "    },\n",
    "    train_kw={\n",
    "        \"epochs\": epochs,\n",
    "        \"n_subj\": 500,\n",
    "        \"rec_every\": 5,\n",
    "    })\n",
    "\n",
    "\n",
    "print(len(e.bd.test))\n",
    "print(len(e.bd.train))\n",
    "\n",
    "report = e.run()\n",
    "\n",
    "\n",
    "\n",
    "\n"
   ]
  },
  {
   "cell_type": "code",
   "execution_count": 3,
   "id": "71de6743-690e-463b-b5b0-212eb0da9165",
   "metadata": {},
   "outputs": [
    {
     "name": "stdout",
     "output_type": "stream",
     "text": [
      "[1.87869006e-01 1.02780366e+00 8.19174022e-01 7.56971438e-01\n",
      " 5.74516802e-01 5.74516802e-01 5.74516802e-01 2.05975844e-01\n",
      " 1.90974009e-01 9.26960028e-01 5.91907000e-01 5.54854043e-01\n",
      " 5.74360521e-01 2.05975844e-01 1.90974009e-01 9.26960028e-01\n",
      " 1.57300000e+03 1.44100000e+03 3.21300000e+03]\n",
      "0.6324072480201721\n",
      "0.47495579719543457\n"
     ]
    }
   ],
   "source": [
    "\n",
    "print (np.mean(report['train_metrics'], axis=0))\n",
    "labels = report[\"metric_labels\"]\n",
    "print(report['train_metrics'][-1, labels.index(\"Acc\")])\n",
    "print(report['test_metrics'][-1, labels.index(\"Acc\")])"
   ]
  },
  {
   "cell_type": "code",
   "execution_count": null,
   "id": "7d5928e0-08ac-4055-9bc6-89fe1fea6d46",
   "metadata": {},
   "outputs": [],
   "source": []
  }
 ],
 "metadata": {
  "kernelspec": {
   "display_name": "Python 3",
   "language": "python",
   "name": "python3"
  },
  "language_info": {
   "codemirror_mode": {
    "name": "ipython",
    "version": 3
   },
   "file_extension": ".py",
   "mimetype": "text/x-python",
   "name": "python",
   "nbconvert_exporter": "python",
   "pygments_lexer": "ipython3",
   "version": "3.7.13"
  },
  "vscode": {
   "interpreter": {
    "hash": "f6e339f590beffb2e62e02c6be9b431caf4c76db3ef9baeb9786d6033ee27a03"
   }
  }
 },
 "nbformat": 4,
 "nbformat_minor": 5
}
