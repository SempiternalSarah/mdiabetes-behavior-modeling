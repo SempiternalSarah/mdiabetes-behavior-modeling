{
 "cells": [
  {
   "cell_type": "code",
   "execution_count": 1,
   "id": "23791e19-fa29-4321-9a92-62c66249e206",
   "metadata": {
    "tags": []
   },
   "outputs": [],
   "source": [
    "from experiment import Experiment\n",
    "from utils.behavior_data import BehaviorData\n",
    "from visuals import Plotter\n",
    "import torch\n",
    "import numpy as np\n",
    "from utils.state_data import StateData\n",
    "import matplotlib.pyplot as plt"
   ]
  },
  {
   "cell_type": "code",
   "execution_count": null,
   "id": "a6ccab30-3fb9-4990-8492-e7d81a539a5f",
   "metadata": {
    "tags": []
   },
   "outputs": [
    {
     "name": "stdout",
     "output_type": "stream",
     "text": [
      "['state' 'state' 'state' 'state' 'state' 'state' 'state' 'state' 'state'\n",
      " 'state' 'state' 'state' 'state' 'state' 'state' 'state' 'state' 'state'\n",
      " 'state' 'state' 'state' 'state' 'response_last_1_q1' 'response_last_1_q1'\n",
      " 'response_last_1_q1' 'pmsg_sids_last_0_q1' 'pmsg_sids_last_0_q1'\n",
      " 'pmsg_sids_last_0_q1' 'pmsg_sids_last_0_q1' 'pmsg_sids_last_0_q1'\n",
      " 'paction_sids_last_0_q1' 'paction_sids_last_0_q1'\n",
      " 'paction_sids_last_0_q1' 'paction_sids_last_0_q1'\n",
      " 'paction_sids_last_0_q1' 'pmsg_ids_last_0_q1' 'pmsg_ids_last_0_q1'\n",
      " 'pmsg_ids_last_0_q1' 'pmsg_ids_last_0_q1' 'pmsg_ids_last_0_q1'\n",
      " 'pmsg_ids_last_0_q1' 'qids_last_0_q1' 'qids_last_0_q1' 'qids_last_0_q1'\n",
      " 'qids_last_0_q1' 'qids_last_0_q1' 'qids_last_0_q1' 'pmsg_sids_last_1_q1'\n",
      " 'pmsg_sids_last_1_q1' 'pmsg_sids_last_1_q1' 'pmsg_sids_last_1_q1'\n",
      " 'pmsg_sids_last_1_q1' 'paction_sids_last_1_q1' 'paction_sids_last_1_q1'\n",
      " 'paction_sids_last_1_q1' 'paction_sids_last_1_q1'\n",
      " 'paction_sids_last_1_q1' 'pmsg_ids_last_1_q1' 'pmsg_ids_last_1_q1'\n",
      " 'pmsg_ids_last_1_q1' 'pmsg_ids_last_1_q1' 'pmsg_ids_last_1_q1'\n",
      " 'pmsg_ids_last_1_q1' 'qids_last_1_q1' 'qids_last_1_q1' 'qids_last_1_q1'\n",
      " 'qids_last_1_q1' 'qids_last_1_q1' 'qids_last_1_q1' 'q1_cat' 'q1_cat']\n",
      "54\n",
      "214\n",
      "0\t train loss: 0.2133 train acc: 54.211% test acc: 52.258% train exerAcc: 47.718% test exerAcc: 50.000% train conAcc: 39.752% test conAcc: 43.648% train knowAcc: 65.945% test knowAcc: 58.690%\n",
      "5\t train loss: 0.1892 train acc: 53.457% test acc: 48.672% train exerAcc: 48.133% test exerAcc: 50.000% train conAcc: 37.929% test conAcc: 34.853% train knowAcc: 65.945% test knowAcc: 58.690%\n",
      "10\t train loss: 0.1837 train acc: 57.706% test acc: 54.648% train exerAcc: 48.133% test exerAcc: 50.000% train conAcc: 47.994% test conAcc: 49.511% train knowAcc: 65.945% test knowAcc: 58.690%\n",
      "15\t train loss: 0.1836 train acc: 57.706% test acc: 54.648% train exerAcc: 48.133% test exerAcc: 50.000% train conAcc: 47.994% test conAcc: 49.511% train knowAcc: 65.945% test knowAcc: 58.690%\n",
      "20\t train loss: 0.1836 train acc: 57.706% test acc: 54.648% train exerAcc: 48.133% test exerAcc: 50.000% train conAcc: 47.994% test conAcc: 49.511% train knowAcc: 65.945% test knowAcc: 58.690%\n",
      "25\t train loss: 0.1836 train acc: 57.706% test acc: 54.648% train exerAcc: 48.133% test exerAcc: 50.000% train conAcc: 47.994% test conAcc: 49.511% train knowAcc: 65.945% test knowAcc: 58.690%\n",
      "30\t train loss: 0.1835 train acc: 57.691% test acc: 54.648% train exerAcc: 47.718% test exerAcc: 50.000% train conAcc: 47.994% test conAcc: 49.511% train knowAcc: 65.945% test knowAcc: 58.690%\n",
      "35\t train loss: 0.1835 train acc: 57.660% test acc: 54.515% train exerAcc: 46.888% test exerAcc: 46.154% train conAcc: 47.994% test conAcc: 49.511% train knowAcc: 65.945% test knowAcc: 58.690%\n",
      "40\t train loss: 0.1835 train acc: 57.644% test acc: 54.582% train exerAcc: 46.473% test exerAcc: 48.077% train conAcc: 47.994% test conAcc: 49.511% train knowAcc: 65.945% test knowAcc: 58.690%\n"
     ]
    }
   ],
   "source": [
    "# model, learning_rate = \"BasicNNSplit\", .006\n",
    "# model, learning_rate = \"BasicNN\", .0054\n",
    "# model, learning_rate = \"LogisticRegressor\", .003\n",
    "model, learning_rate = \"AdaptableLSTM\", .1\n",
    "epochs = 1000\n",
    "seed = 2\n",
    "include_state = True\n",
    "estate = True\n",
    "fullq = False\n",
    "respond_perc = .50\n",
    "numWeeks = 2\n",
    "insertpreds = False\n",
    "noise = 0.00\n",
    "smooth = 0\n",
    "splitQs = True\n",
    "splitModel = True\n",
    "\n",
    "# format for these is [offEpoch, onEpoch, offEpoch, onEpoch, offEpoch....]\n",
    "# toggles training the category at every epoch in the list\n",
    "# if any category is disabled, LSTM block will be frozen\n",
    "knowSched = [10]\n",
    "physSched = [500]\n",
    "conSched = [10]\n",
    "\n",
    "    \n",
    "np.random.seed(seed)\n",
    "torch.manual_seed(seed)\n",
    "\n",
    "\n",
    "e = Experiment(\n",
    "    modelSplit = splitModel,\n",
    "    numValFolds = 5,\n",
    "    epochsToUpdateLabelMods = 10,\n",
    "    knowSchedule = knowSched,\n",
    "    consumpSchedule = conSched,\n",
    "    physSchedule = physSched,\n",
    "    data_kw={\"minw\": 2,\n",
    "            \"maxw\": 31,\n",
    "            \"include_state\": include_state,\n",
    "            \"include_pid\": False,\n",
    "            \"expanded_states\": estate,\n",
    "            \"top_respond_perc\": respond_perc,\n",
    "             \"full_questionnaire\": fullq,\n",
    "             \"num_weeks_history\": numWeeks,\n",
    "             \"insert_predictions\": insertpreds,\n",
    "             \"one_hot_response_features\": True,\n",
    "             \"response_feature_noise\": noise,\n",
    "             \"max_state_week\": 1,\n",
    "             \"split_model_features\": splitModel,\n",
    "             \"split_weekly_questions\": splitQs\n",
    "            },\n",
    "    model=model,\n",
    "    model_kw={\n",
    "        \"lossfn\": \"MSELoss\",\n",
    "        # \"lossfn\": \"NDCG\",\n",
    "        # \"lossfn\": \"CrossEntropyLoss\",\n",
    "        \"hidden_size\": 10,\n",
    "        \"lr_step_mult\": .9, \n",
    "        \"lr_step_epochs\": 100,\n",
    "        \"opt_kw\": {\n",
    "            \"lr\": learning_rate,\n",
    "        },\n",
    "        \"splitModel\": splitModel,\n",
    "        \"splitWeeklyQuestions\": splitQs,\n",
    "        \"labelSmoothPerc\": smooth,\n",
    "        \"gaussianNoiseStd\": noise\n",
    "        \n",
    "    },\n",
    "    train_kw={\n",
    "        \"epochs\": epochs,\n",
    "        \"n_subj\": 500,\n",
    "        \"rec_every\": 5,\n",
    "    })\n",
    "\n",
    "\n",
    "print(len(e.bd.test))\n",
    "print(len(e.bd.train))\n",
    "\n",
    "# torch.autograd.set_detect_anomaly(True)\n",
    "\n",
    "report = e.run()\n",
    "\n",
    "\n",
    "\n",
    "\n"
   ]
  },
  {
   "cell_type": "code",
   "execution_count": null,
   "id": "71de6743-690e-463b-b5b0-212eb0da9165",
   "metadata": {},
   "outputs": [],
   "source": [
    "\n",
    "print (np.mean(report['train_metrics'], axis=0))\n",
    "labels = report[\"metric_labels\"]\n",
    "print(report['train_metrics'][-1, labels.index(\"Acc\")])\n",
    "print(report['test_metrics'][-1, labels.index(\"Acc\")])\n",
    "\n",
    "splot = plt.plot(report[\"rec_epochs\"], report[\"train_metrics\"][:, labels.index(\"Acc\")], label=\"Train Acc.\")\n",
    "splot = plt.plot(report[\"rec_epochs\"], report[\"test_metrics\"][:, labels.index(\"Acc\")], label=\"Test Acc.\")\n",
    "splot = plt.plot(report[\"rec_epochs\"], report[\"train_metrics\"][:, labels.index(\"MSE\")], label=\"Train MSE\")\n",
    "splot = plt.plot(report[\"rec_epochs\"], report[\"test_metrics\"][:, labels.index(\"MSE\")], label=\"Test MSE\")\n",
    "plt.title(\"Train/Test Performance Over Training\")\n",
    "plt.legend()\n",
    "plt.ylabel(\"Metric\")\n",
    "plt.xlabel(\"Training Epoch\")\n",
    "plt.savefig(\"simpleNotebookAccPlot.png\")\n",
    "\n",
    "plt.clf()\n",
    "\n"
   ]
  },
  {
   "cell_type": "code",
   "execution_count": null,
   "id": "7d5928e0-08ac-4055-9bc6-89fe1fea6d46",
   "metadata": {},
   "outputs": [],
   "source": [
    "print(e.bd.features.shape, e.bd.featureList.shape)"
   ]
  },
  {
   "cell_type": "code",
   "execution_count": null,
   "id": "3a41511c-c598-4167-9570-c6b6a75c927a",
   "metadata": {},
   "outputs": [],
   "source": []
  }
 ],
 "metadata": {
  "kernelspec": {
   "display_name": "Python 3",
   "language": "python",
   "name": "python3"
  },
  "language_info": {
   "codemirror_mode": {
    "name": "ipython",
    "version": 3
   },
   "file_extension": ".py",
   "mimetype": "text/x-python",
   "name": "python",
   "nbconvert_exporter": "python",
   "pygments_lexer": "ipython3",
   "version": "3.7.13"
  },
  "vscode": {
   "interpreter": {
    "hash": "f6e339f590beffb2e62e02c6be9b431caf4c76db3ef9baeb9786d6033ee27a03"
   }
  }
 },
 "nbformat": 4,
 "nbformat_minor": 5
}
