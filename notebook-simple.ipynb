{
 "cells": [
  {
   "cell_type": "code",
   "execution_count": 1,
   "id": "23791e19-fa29-4321-9a92-62c66249e206",
   "metadata": {
    "tags": []
   },
   "outputs": [],
   "source": [
    "from experiment import Experiment\n",
    "from utils.behavior_data import BehaviorData\n",
    "from visuals import Plotter\n",
    "import torch\n",
    "import numpy as np\n",
    "from utils.state_data import StateData\n",
    "import matplotlib.pyplot as plt"
   ]
  },
  {
   "cell_type": "code",
   "execution_count": null,
   "id": "a6ccab30-3fb9-4990-8492-e7d81a539a5f",
   "metadata": {
    "tags": []
   },
   "outputs": [
    {
     "name": "stdout",
     "output_type": "stream",
     "text": [
      "['state' 'state' 'state' 'state' 'state' 'state' 'state' 'state' 'state'\n",
      " 'state' 'state' 'state' 'state' 'state' 'state' 'state' 'state' 'state'\n",
      " 'state' 'state' 'state' 'state' 'state' 'state' 'state' 'state' 'state'\n",
      " 'state' 'state' 'state' 'state' 'state' 'state' 'state' 'state' 'state'\n",
      " 'state' 'state' 'state' 'state' 'state' 'state' 'state' 'state' 'state'\n",
      " 'state' 'state' 'state' 'state' 'state' 'state' 'state' 'state' 'state'\n",
      " 'state' 'state' 'state' 'state' 'state' 'state' 'state' 'state' 'state'\n",
      " 'state' 'response_last_1' 'response_last_2' 'paction_sids_0'\n",
      " 'paction_sids_0' 'paction_sids_0' 'paction_sids_0' 'paction_sids_0'\n",
      " 'paction_sids_1' 'paction_sids_1' 'paction_sids_1' 'paction_sids_1'\n",
      " 'paction_sids_1' 'pmsg_ids_0' 'pmsg_ids_0' 'pmsg_ids_0' 'pmsg_ids_0'\n",
      " 'pmsg_ids_0' 'pmsg_ids_0' 'pmsg_ids_1' 'pmsg_ids_1' 'pmsg_ids_1'\n",
      " 'pmsg_ids_1' 'pmsg_ids_1' 'pmsg_ids_1' 'qids_0' 'qids_0' 'qids_0'\n",
      " 'qids_0' 'qids_0' 'qids_0' 'qids_1' 'qids_1' 'qids_1' 'qids_1' 'qids_1'\n",
      " 'qids_1' 'Q0_cat' 'Q0_cat' 'Q1_cat' 'Q1_cat']\n",
      "54\n",
      "214\n",
      "0\t train loss: 0.1862 train acc: 53.627% test acc: 54.963%\n",
      "5\t train loss: 0.1698 train acc: 55.753% test acc: 56.168%\n",
      "10\t train loss: 0.1662 train acc: 55.880% test acc: 56.168%\n",
      "15\t train loss: 0.1659 train acc: 56.024% test acc: 55.995%\n",
      "20\t train loss: 0.1627 train acc: 56.472% test acc: 56.282%\n",
      "25\t train loss: 0.1606 train acc: 56.759% test acc: 56.340%\n",
      "30\t train loss: 0.1589 train acc: 57.095% test acc: 56.225%\n",
      "35\t train loss: 0.1574 train acc: 57.558% test acc: 55.766%\n",
      "40\t train loss: 0.1573 train acc: 57.510% test acc: 56.110%\n",
      "45\t train loss: 0.1559 train acc: 58.118% test acc: 55.995%\n",
      "50\t train loss: 0.1553 train acc: 58.661% test acc: 56.512%\n",
      "55\t train loss: 0.1543 train acc: 59.028% test acc: 56.913%\n",
      "60\t train loss: 0.1532 train acc: 59.012% test acc: 56.913%\n",
      "65\t train loss: 0.1534 train acc: 59.092% test acc: 56.856%\n",
      "70\t train loss: 0.1534 train acc: 59.124% test acc: 56.454%\n",
      "75\t train loss: 0.1527 train acc: 59.092% test acc: 56.340%\n",
      "80\t train loss: 0.1521 train acc: 58.981% test acc: 56.282%\n",
      "85\t train loss: 0.1524 train acc: 58.933% test acc: 56.397%\n",
      "90\t train loss: 0.1522 train acc: 59.220% test acc: 56.053%\n",
      "95\t train loss: 0.1518 train acc: 59.012% test acc: 55.823%\n",
      "100\t train loss: 0.1519 train acc: 59.172% test acc: 55.995%\n",
      "105\t train loss: 0.1523 train acc: 59.220% test acc: 56.110%\n",
      "110\t train loss: 0.1518 train acc: 59.140% test acc: 56.053%\n",
      "115\t train loss: 0.1522 train acc: 58.996% test acc: 55.881%\n",
      "120\t train loss: 0.1520 train acc: 59.092% test acc: 55.766%\n",
      "125\t train loss: 0.1515 train acc: 59.140% test acc: 55.766%\n",
      "130\t train loss: 0.1516 train acc: 59.236% test acc: 55.307%\n"
     ]
    }
   ],
   "source": [
    "model, learning_rate = \"BasicNNSplit\", .006\n",
    "# model, learning_rate = \"BasicNN\", .0054\n",
    "# model, learning_rate = \"LogisticRegressor\", .003\n",
    "epochs = 1000\n",
    "seed = 1\n",
    "include_state = True\n",
    "estate = True\n",
    "fullq = True\n",
    "respond_perc = .50\n",
    "fullseq = False\n",
    "insertpreds = True\n",
    "noise = 0.07\n",
    "smooth = 0\n",
    "\n",
    "    \n",
    "np.random.seed(seed)\n",
    "torch.manual_seed(seed)\n",
    "\n",
    "\n",
    "e = Experiment(\n",
    "    modelSplit = True,\n",
    "    numValFolds = 5,\n",
    "    epochsToUpdateLabelMods = 10,\n",
    "    data_kw={\"minw\": 2,\n",
    "            \"maxw\": 31,\n",
    "            \"include_state\": include_state,\n",
    "            \"include_pid\": False,\n",
    "            \"expanded_states\": estate,\n",
    "            \"top_respond_perc\": respond_perc,\n",
    "             \"full_questionnaire\": fullq,\n",
    "             \"full_sequence\": fullseq,\n",
    "             \"insert_predictions\": insertpreds,\n",
    "             \"one_hot_response_features\": False,\n",
    "             \"response_feature_noise\": noise,\n",
    "             \"max_state_week\": 1,\n",
    "             \n",
    "            },\n",
    "    model=model,\n",
    "    model_kw={\n",
    "        \"lossfn\": \"MSELoss\",\n",
    "        # \"lossfn\": \"NDCG\",\n",
    "        # \"lossfn\": \"CrossEntropyLoss\",\n",
    "        \"hidden_size\": 10,\n",
    "        \"lr_step_mult\": .9, \n",
    "        \"lr_step_epochs\": 100,\n",
    "        \"opt_kw\": {\n",
    "            \"lr\": learning_rate,\n",
    "        },\n",
    "        \"splitModel\": True,\n",
    "        \"labelSmoothPerc\": smooth,\n",
    "        \"gaussianNoiseStd\": noise\n",
    "        \n",
    "    },\n",
    "    train_kw={\n",
    "        \"epochs\": epochs,\n",
    "        \"n_subj\": 500,\n",
    "        \"rec_every\": 5,\n",
    "    })\n",
    "\n",
    "\n",
    "print(len(e.bd.test))\n",
    "print(len(e.bd.train))\n",
    "\n",
    "report = e.run()\n",
    "\n",
    "\n",
    "\n",
    "\n"
   ]
  },
  {
   "cell_type": "code",
   "execution_count": null,
   "id": "71de6743-690e-463b-b5b0-212eb0da9165",
   "metadata": {},
   "outputs": [],
   "source": [
    "\n",
    "print (np.mean(report['train_metrics'], axis=0))\n",
    "labels = report[\"metric_labels\"]\n",
    "print(report['train_metrics'][-1, labels.index(\"Acc\")])\n",
    "print(report['test_metrics'][-1, labels.index(\"Acc\")])\n",
    "\n",
    "splot = plt.plot(report[\"rec_epochs\"], report[\"train_metrics\"][:, labels.index(\"Acc\")], label=\"Train Acc.\")\n",
    "splot = plt.plot(report[\"rec_epochs\"], report[\"test_metrics\"][:, labels.index(\"Acc\")], label=\"Test Acc.\")\n",
    "splot = plt.plot(report[\"rec_epochs\"], report[\"train_metrics\"][:, labels.index(\"MSE\")], label=\"Train MSE\")\n",
    "splot = plt.plot(report[\"rec_epochs\"], report[\"test_metrics\"][:, labels.index(\"MSE\")], label=\"Test MSE\")\n",
    "plt.title(\"Train/Test Performance Over Training\")\n",
    "plt.legend()\n",
    "plt.ylabel(\"Metric\")\n",
    "plt.xlabel(\"Training Epoch\")\n",
    "plt.savefig(\"simpleNotebookAccPlot.png\")\n",
    "\n",
    "plt.clf()"
   ]
  },
  {
   "cell_type": "code",
   "execution_count": null,
   "id": "7d5928e0-08ac-4055-9bc6-89fe1fea6d46",
   "metadata": {},
   "outputs": [],
   "source": [
    "print(e.bd.features.shape, e.bd.featureList.shape)"
   ]
  },
  {
   "cell_type": "code",
   "execution_count": null,
   "id": "3a41511c-c598-4167-9570-c6b6a75c927a",
   "metadata": {},
   "outputs": [],
   "source": []
  }
 ],
 "metadata": {
  "kernelspec": {
   "display_name": "Python 3",
   "language": "python",
   "name": "python3"
  },
  "language_info": {
   "codemirror_mode": {
    "name": "ipython",
    "version": 3
   },
   "file_extension": ".py",
   "mimetype": "text/x-python",
   "name": "python",
   "nbconvert_exporter": "python",
   "pygments_lexer": "ipython3",
   "version": "3.7.13"
  },
  "vscode": {
   "interpreter": {
    "hash": "f6e339f590beffb2e62e02c6be9b431caf4c76db3ef9baeb9786d6033ee27a03"
   }
  }
 },
 "nbformat": 4,
 "nbformat_minor": 5
}
