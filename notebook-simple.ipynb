{
 "cells": [
  {
   "cell_type": "code",
   "execution_count": 1,
   "id": "23791e19-fa29-4321-9a92-62c66249e206",
   "metadata": {
    "tags": []
   },
   "outputs": [],
   "source": [
    "from experiment import Experiment\n",
    "from utils.behavior_data import BehaviorData\n",
    "from visuals import Plotter\n",
    "import torch\n",
    "import numpy as np\n",
    "from utils.state_data import StateData\n",
    "import matplotlib.pyplot as plt"
   ]
  },
  {
   "cell_type": "code",
   "execution_count": 2,
   "id": "a6ccab30-3fb9-4990-8492-e7d81a539a5f",
   "metadata": {
    "tags": []
   },
   "outputs": [
    {
     "name": "stdout",
     "output_type": "stream",
     "text": [
      "0\t train loss: 0.0618 train acc: 51.629% test acc: 49.770%\n",
      "5\t train loss: 0.0585 train acc: 52.143% test acc: 49.923%\n",
      "10\t train loss: 0.0571 train acc: 42.323% test acc: 39.528%\n",
      "15\t train loss: 0.0533 train acc: 44.754% test acc: 42.809%\n",
      "20\t train loss: 0.0526 train acc: 52.237% test acc: 48.942%\n",
      "25\t train loss: 0.0516 train acc: 50.133% test acc: 45.048%\n",
      "30\t train loss: 0.0508 train acc: 53.094% test acc: 48.022%\n",
      "35\t train loss: 0.0499 train acc: 53.001% test acc: 47.685%\n",
      "40\t train loss: 0.0488 train acc: 53.063% test acc: 46.305%\n",
      "45\t train loss: 0.0477 train acc: 54.996% test acc: 47.746%\n",
      "50\t train loss: 0.0465 train acc: 55.386% test acc: 46.949%\n",
      "55\t train loss: 0.0454 train acc: 56.368% test acc: 46.458%\n",
      "60\t train loss: 0.0442 train acc: 56.789% test acc: 46.243%\n",
      "65\t train loss: 0.0432 train acc: 57.506% test acc: 45.967%\n",
      "70\t train loss: 0.0422 train acc: 58.628% test acc: 45.048%\n",
      "75\t train loss: 0.0412 train acc: 59.408% test acc: 44.894%\n",
      "80\t train loss: 0.0402 train acc: 60.047% test acc: 45.385%\n",
      "85\t train loss: 0.0393 train acc: 61.465% test acc: 45.017%\n",
      "90\t train loss: 0.0384 train acc: 62.385% test acc: 44.802%\n",
      "95\t train loss: 0.0375 train acc: 62.822% test acc: 44.925%\n",
      "100\t train loss: 0.0367 train acc: 63.710% test acc: 44.618%\n",
      "105\t train loss: 0.0359 train acc: 64.910% test acc: 44.066%\n",
      "110\t train loss: 0.0350 train acc: 65.409% test acc: 44.312%\n",
      "115\t train loss: 0.0342 train acc: 66.422% test acc: 43.177%\n",
      "120\t train loss: 0.0335 train acc: 67.358% test acc: 43.484%\n",
      "125\t train loss: 0.0328 train acc: 67.810% test acc: 43.422%\n",
      "130\t train loss: 0.0321 train acc: 68.511% test acc: 43.177%\n",
      "135\t train loss: 0.0314 train acc: 69.337% test acc: 42.717%\n",
      "140\t train loss: 0.0308 train acc: 70.070% test acc: 42.778%\n",
      "145\t train loss: 0.0303 train acc: 69.914% test acc: 41.705%\n",
      "149\t train loss: 0.0297 train acc: 71.099% test acc: 43.054%\n"
     ]
    }
   ],
   "source": [
    "# model = \"AdaptableLSTM\"\n",
    "model = \"BasicNN\"\n",
    "# model = \"LogisticRegressor\"\n",
    "learning_rate = .0024\n",
    "epochs = 150\n",
    "seed = 1\n",
    "include_state = True\n",
    "estate = True\n",
    "fullq = False\n",
    "respond_perc = .50\n",
    "fullseq = True\n",
    "insertpreds = False\n",
    "\n",
    "    \n",
    "np.random.seed(seed)\n",
    "torch.manual_seed(seed)\n",
    "\n",
    "\n",
    "e = Experiment(\n",
    "    numValFolds = 5,\n",
    "    epochsToUpdateLabelMods = 5,\n",
    "    data_kw={\"minw\": 2,\n",
    "            \"maxw\": 29,\n",
    "            \"include_state\": include_state,\n",
    "            \"include_pid\": False,\n",
    "            \"expanded_states\": estate,\n",
    "            \"top_respond_perc\": respond_perc,\n",
    "             \"full_questionnaire\": fullq,\n",
    "             \"full_sequence\": fullseq,\n",
    "             \"insert_predictions\": insertpreds\n",
    "            },\n",
    "    model=model,\n",
    "    model_kw={\n",
    "        \"lossfn\": \"MSELoss\",\n",
    "        # \"lossfn\": \"NDCG\",\n",
    "        # \"lossfn\": \"CrossEntropyLoss\",\n",
    "        \"hidden_size\": 200,\n",
    "        \"lr_step_mult\": .9, \n",
    "        \"lr_step_epochs\": 60,\n",
    "        \"opt_kw\": {\n",
    "            \"lr\": learning_rate,\n",
    "        }\n",
    "        \n",
    "    },\n",
    "    train_kw={\n",
    "        \"epochs\": epochs,\n",
    "        \"n_subj\": 500,\n",
    "        \"rec_every\": 5,\n",
    "    })\n",
    "\n",
    "\n",
    "\n",
    "report = e.run()\n",
    "\n",
    "\n",
    "\n"
   ]
  },
  {
   "cell_type": "code",
   "execution_count": 3,
   "id": "71de6743-690e-463b-b5b0-212eb0da9165",
   "metadata": {},
   "outputs": [
    {
     "name": "stdout",
     "output_type": "stream",
     "text": [
      "[1.89008309e-01 1.03273091e+00 8.27346475e-01 7.67975750e-01\n",
      " 5.94428379e-01 5.94428379e-01 5.94428379e-01 2.83258624e-01\n",
      " 4.01737145e-01 8.26217107e-01 6.34055280e-01 3.50128257e-01\n",
      " 6.77168423e-01 2.83258624e-01 4.01737145e-01 8.26217107e-01\n",
      " 1.61200000e+03 1.44100000e+03 3.36200000e+03]\n",
      "0.7109898924827576\n",
      "0.4305427670478821\n"
     ]
    }
   ],
   "source": [
    "\n",
    "print (np.mean(report['train_metrics'], axis=0))\n",
    "labels = report[\"metric_labels\"]\n",
    "print(report['train_metrics'][-1, labels.index(\"Acc\")])\n",
    "print(report['test_metrics'][-1, labels.index(\"Acc\")])"
   ]
  },
  {
   "cell_type": "code",
   "execution_count": null,
   "id": "7d5928e0-08ac-4055-9bc6-89fe1fea6d46",
   "metadata": {},
   "outputs": [],
   "source": []
  }
 ],
 "metadata": {
  "kernelspec": {
   "display_name": "Python 3",
   "language": "python",
   "name": "python3"
  },
  "language_info": {
   "codemirror_mode": {
    "name": "ipython",
    "version": 3
   },
   "file_extension": ".py",
   "mimetype": "text/x-python",
   "name": "python",
   "nbconvert_exporter": "python",
   "pygments_lexer": "ipython3",
   "version": "3.7.13"
  },
  "vscode": {
   "interpreter": {
    "hash": "f6e339f590beffb2e62e02c6be9b431caf4c76db3ef9baeb9786d6033ee27a03"
   }
  }
 },
 "nbformat": 4,
 "nbformat_minor": 5
}
