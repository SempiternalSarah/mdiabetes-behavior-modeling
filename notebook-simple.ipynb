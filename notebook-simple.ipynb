{
 "cells": [
  {
   "cell_type": "code",
   "execution_count": 1,
   "id": "23791e19-fa29-4321-9a92-62c66249e206",
   "metadata": {
    "tags": []
   },
   "outputs": [],
   "source": [
    "from experiment import Experiment\n",
    "from utils.behavior_data import BehaviorData\n",
    "from visuals import Plotter\n",
    "import torch\n",
    "import numpy as np\n",
    "from utils.state_data import StateData\n",
    "import matplotlib.pyplot as plt"
   ]
  },
  {
   "cell_type": "code",
   "execution_count": 2,
   "id": "a6ccab30-3fb9-4990-8492-e7d81a539a5f",
   "metadata": {
    "tags": []
   },
   "outputs": [
    {
     "name": "stdout",
     "output_type": "stream",
     "text": [
      "268 537\n",
      "(6904, 56) (6904, 8)\n",
      "0\t [0.10722040385007858]\n",
      "5\t [0.09395033121109009]\n",
      "10\t [0.07524826377630234]\n",
      "15\t [0.06293371319770813]\n",
      "20\t [0.06052512675523758]\n",
      "25\t [0.0564492866396904]\n",
      "30\t [0.05491332337260246]\n",
      "35\t [0.05267776921391487]\n",
      "40\t [0.0514175221323967]\n",
      "45\t [0.050859320908784866]\n",
      "50\t [0.05044882372021675]\n",
      "55\t [0.049964506179094315]\n",
      "60\t [0.04975331947207451]\n",
      "65\t [0.049603112041950226]\n",
      "70\t [0.04947585612535477]\n",
      "75\t [0.04937669634819031]\n",
      "80\t [0.049284011125564575]\n",
      "85\t [0.04920724034309387]\n",
      "90\t [0.04914553463459015]\n",
      "95\t [0.04909445717930794]\n",
      "100\t [0.04904720559716225]\n",
      "105\t [0.04900584742426872]\n",
      "110\t [0.04897022992372513]\n",
      "115\t [0.048938605934381485]\n",
      "120\t [0.048910316079854965]\n",
      "125\t [0.048887621611356735]\n",
      "130\t [0.04886728897690773]\n",
      "135\t [0.04884875565767288]\n",
      "140\t [0.04883197322487831]\n",
      "145\t [0.04881671816110611]\n",
      "150\t [0.04880277067422867]\n",
      "155\t [0.04879003018140793]\n",
      "160\t [0.04877835884690285]\n",
      "165\t [0.04876764118671417]\n",
      "170\t [0.04875778406858444]\n",
      "175\t [0.04874871298670769]\n",
      "180\t [0.04874033480882645]\n",
      "185\t [0.048733338713645935]\n",
      "189\t [0.048728082329034805]\n"
     ]
    }
   ],
   "source": [
    "# model = \"AdaptableLSTM\"\n",
    "model = \"LogisticRegressor\"\n",
    "learning_rate = .03\n",
    "epochs = 190\n",
    "seed = 1\n",
    "include_state = True\n",
    "estate = True\n",
    "fullq = False\n",
    "respond_perc = .50\n",
    "\n",
    "    \n",
    "np.random.seed(seed)\n",
    "torch.manual_seed(seed)\n",
    "\n",
    "\n",
    "e = Experiment(\n",
    "    numValFolds = 5,\n",
    "    data_kw={\"minw\": 2,\n",
    "            \"maxw\": 29,\n",
    "            \"include_state\": include_state,\n",
    "            \"include_pid\": False,\n",
    "            \"expanded_states\": estate,\n",
    "            \"top_respond_perc\": respond_perc,\n",
    "             \"full_questionnaire\": fullq\n",
    "            },\n",
    "    model=model,\n",
    "    model_kw={\n",
    "        \"lossfn\": \"MSELoss\",\n",
    "        # \"lossfn\": \"NDCG\",\n",
    "        # \"lossfn\": \"CrossEntropyLoss\",\n",
    "        \"hidden_size\": 200,\n",
    "        \"lr_step_mult\": .9, \n",
    "        \"lr_step_epochs\": 60,\n",
    "        \"opt_kw\": {\n",
    "            \"lr\": learning_rate,\n",
    "        }\n",
    "    },\n",
    "    train_kw={\n",
    "        \"epochs\": epochs,\n",
    "        \"n_subj\": 500,\n",
    "        \"rec_every\": 5,\n",
    "    })\n",
    "\n",
    "\n",
    "\n",
    "report = e.run()\n",
    "\n",
    "\n"
   ]
  }
 ],
 "metadata": {
  "kernelspec": {
   "display_name": "Python 3",
   "language": "python",
   "name": "python3"
  },
  "language_info": {
   "codemirror_mode": {
    "name": "ipython",
    "version": 3
   },
   "file_extension": ".py",
   "mimetype": "text/x-python",
   "name": "python",
   "nbconvert_exporter": "python",
   "pygments_lexer": "ipython3",
   "version": "3.7.13"
  },
  "vscode": {
   "interpreter": {
    "hash": "f6e339f590beffb2e62e02c6be9b431caf4c76db3ef9baeb9786d6033ee27a03"
   }
  }
 },
 "nbformat": 4,
 "nbformat_minor": 5
}
