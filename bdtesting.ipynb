{
 "cells": [
  {
   "cell_type": "code",
   "execution_count": 1,
   "id": "23791e19-fa29-4321-9a92-62c66249e206",
   "metadata": {
    "tags": []
   },
   "outputs": [],
   "source": [
    "from experiment import Experiment\n",
    "from utils.behavior_data import BehaviorData\n",
    "from visuals import Plotter\n",
    "import torch\n",
    "import numpy as np\n",
    "from utils.state_data import StateData\n",
    "import matplotlib.pyplot as plt\n"
   ]
  },
  {
   "cell_type": "code",
   "execution_count": 7,
   "id": "580ee064-45fa-4804-8f38-1ac2bd3580a5",
   "metadata": {
    "tags": []
   },
   "outputs": [
    {
     "data": {
      "image/png": "[encoded data removed]",
      "text/plain": [
       "<Figure size 640x480 with 1 Axes>"
      ]
     },
     "metadata": {},
     "output_type": "display_data"
    },
    {
     "data": {
      "text/plain": [
       "<Figure size 640x480 with 0 Axes>"
      ]
     },
     "metadata": {},
     "output_type": "display_data"
    }
   ],
   "source": [
    "np.random.seed(0)\n",
    "torch.manual_seed(0)\n",
    "bd = BehaviorData(minw=2, maxw=31, include_state=True, include_pid=False, full_questionnaire=True, expanded_states=True, full_sequence=False)\n",
    "\n",
    "counts = bd.get_weekly_response_rates()\n",
    "\n",
    "splot = plt.plot(counts)\n",
    "plt.ylabel(\"Response Rate\")\n",
    "plt.ylim(0, 1)\n",
    "plt.xlabel(\"Week (participant specific)\")\n",
    "\n",
    "plt.show()\n",
    "plt.clf()"
   ]
  },
  {
   "cell_type": "code",
   "execution_count": 2,
   "id": "7ae7760b-b31d-482b-b44a-b4feae238dd8",
   "metadata": {
    "tags": []
   },
   "outputs": [
    {
     "name": "stdout",
     "output_type": "stream",
     "text": [
      "[0.62197393 0.53258845 0.56052142 0.53631285 0.5679702  0.6424581\n",
      " 0.7132216  0.68715084 0.73184358 0.77467412 0.79143389 0.76350093\n",
      " 0.74115456 0.76908752 0.73370577 0.7132216  0.75418994 0.73743017\n",
      " 0.70763501 0.70018622 0.72253259 0.69273743 0.70204842 0.63128492]\n",
      "64\n",
      "['state' 'state' 'state' 'state' 'state' 'state' 'state' 'state' 'state'\n",
      " 'state' 'state' 'state' 'state' 'state' 'state' 'state' 'state' 'state'\n",
      " 'state' 'state' 'state' 'state' 'state' 'state' 'state' 'state' 'state'\n",
      " 'state' 'state' 'state' 'state' 'state' 'state' 'state' 'state' 'state'\n",
      " 'state' 'state' 'state' 'state' 'state' 'state' 'state' 'state' 'state'\n",
      " 'state' 'state' 'state' 'state' 'state' 'state' 'state' 'state' 'state'\n",
      " 'state' 'state' 'state' 'state' 'state' 'state' 'state' 'state' 'state'\n",
      " 'state' 'response_last_1' 'response_last_1' 'response_last_1'\n",
      " 'response_last_2' 'response_last_2' 'response_last_2' 'paction_sids_0'\n",
      " 'paction_sids_0' 'paction_sids_0' 'paction_sids_0' 'paction_sids_0'\n",
      " 'paction_sids_1' 'paction_sids_1' 'paction_sids_1' 'paction_sids_1'\n",
      " 'paction_sids_1' 'pmsg_ids_0' 'pmsg_ids_0' 'pmsg_ids_0' 'pmsg_ids_0'\n",
      " 'pmsg_ids_0' 'pmsg_ids_0' 'pmsg_ids_1' 'pmsg_ids_1' 'pmsg_ids_1'\n",
      " 'pmsg_ids_1' 'pmsg_ids_1' 'pmsg_ids_1' 'qids_0' 'qids_0' 'qids_0'\n",
      " 'qids_0' 'qids_0' 'qids_0' 'qids_1' 'qids_1' 'qids_1' 'qids_1' 'qids_1'\n",
      " 'qids_1']\n",
      "146518\n",
      "[ 1. 13.  3. 13.  3. 13.  3. 13.  1. 13.  3. 17.  3. 17.  3. 17.  3. 17.\n",
      "  3. 17.  1. 13.  3. 17.  3. 17.  2.  2.  2.  2.  2.  2.  1.  1.  1.  1.\n",
      "  1.  5.  3.  5.  3.  9.  3.  9.  1.  9.  3.  9.  1.  9.  2.  9.  3.  9.\n",
      "  3.  9.  2.  9.  1.  9.  3.  1.  3.  1.]\n",
      "0        [0, 0]\n",
      "107      [0, 0]\n",
      "336      [0, 0]\n",
      "639      [0, 0]\n",
      "992      [1, 0]\n",
      "1401     [0, 0]\n",
      "1871     [3, 0]\n",
      "2421     [0, 0]\n",
      "2971     [0, 0]\n",
      "3521     [0, 0]\n",
      "4071     [0, 0]\n",
      "4621     [0, 0]\n",
      "5171     [0, 0]\n",
      "5721     [0, 0]\n",
      "6271     [0, 0]\n",
      "6821     [0, 0]\n",
      "7371     [0, 0]\n",
      "7921     [0, 0]\n",
      "8471     [0, 0]\n",
      "9021     [0, 0]\n",
      "9571     [0, 0]\n",
      "10121    [0, 0]\n",
      "10671    [0, 0]\n",
      "11221    [0, 0]\n",
      "Name: response, dtype: object\n",
      "0        [27, 25]\n",
      "107      [15, 23]\n",
      "336       [17, 5]\n",
      "639       [5, 23]\n",
      "992      [25, 26]\n",
      "1401     [27, 28]\n",
      "1871     [28, 27]\n",
      "2421      [8, 24]\n",
      "2971      [4, 28]\n",
      "3521      [4, 27]\n",
      "4071     [28, 13]\n",
      "4621     [28, 31]\n",
      "5171     [10, 28]\n",
      "5721     [10, 24]\n",
      "6271      [3, 32]\n",
      "6821     [24, 10]\n",
      "7371     [28, 30]\n",
      "7921     [27, 26]\n",
      "8471     [10, 28]\n",
      "9021     [28, 27]\n",
      "9571     [27, 26]\n",
      "10121    [27, 28]\n",
      "10671    [25, 15]\n",
      "11221    [20, 11]\n",
      "Name: qids, dtype: object\n",
      "0         (2, 57)\n",
      "107      (13, 44)\n",
      "336      (13, 44)\n",
      "639      (13, 44)\n",
      "992       (9, 10)\n",
      "1401     (14, 19)\n",
      "1871     (14, 19)\n",
      "2421     (30, 50)\n",
      "2971     (13, 14)\n",
      "3521     (28, 57)\n",
      "4071      (1, 17)\n",
      "4621     (19, 20)\n",
      "5171     (21, 41)\n",
      "5721     (31, 36)\n",
      "6271     (21, 31)\n",
      "6821     (12, 55)\n",
      "7371       (2, 6)\n",
      "7921     (42, 53)\n",
      "8471     (21, 41)\n",
      "9021      (9, 19)\n",
      "9571     (42, 53)\n",
      "10121    (41, 45)\n",
      "10671    (12, 13)\n",
      "11221    (28, 52)\n",
      "Name: pmsg_ids, dtype: object\n",
      "0        (17, 13)\n",
      "107        (8, 3)\n",
      "336        (8, 3)\n",
      "639        (8, 3)\n",
      "992      (13, 14)\n",
      "1401      (9, 17)\n",
      "1871      (9, 17)\n",
      "2421     (13, 13)\n",
      "2971       (8, 9)\n",
      "3521      (4, 13)\n",
      "4071     (17, 17)\n",
      "4621      (17, 5)\n",
      "5171     (12, 17)\n",
      "5721      (8, 13)\n",
      "6271      (12, 8)\n",
      "6821      (13, 9)\n",
      "7371     (17, 12)\n",
      "7921      (5, 16)\n",
      "8471     (12, 17)\n",
      "9021     (13, 17)\n",
      "9571      (5, 16)\n",
      "10121    (17, 17)\n",
      "10671     (13, 8)\n",
      "11221     (4, 12)\n",
      "Name: paction_sids, dtype: object\n",
      "tensor([0., 1., 1., 0., 1., 1., 0., 1., 1., 0., 0., 1.])\n",
      "tensor([ 233.7222, 1424.9906,  242.7036, 1424.9906,  256.9923, 1424.9906,\n",
      "         239.0294, 1424.9906,  209.6355, 1424.9906,  114.9219, 1863.4493,\n",
      "         200.2458, 1863.4493,  254.9510, 1863.4493,  243.1119, 1863.4493,\n",
      "         247.6026, 1863.4493,  147.9900, 1424.9906,  178.2004, 1863.4493,\n",
      "         228.0067, 1863.4493,  263.7284,  219.2293,  207.7984,  219.2293,\n",
      "         260.2583,  219.2293,  175.7509,  109.6147,  182.8952,  109.6147,\n",
      "         236.1716,  548.0733,  277.6088,  548.0733,  249.6438,  986.5320,\n",
      "         245.5613,  986.5320,  216.3716,  986.5320,  310.4728,  986.5320,\n",
      "         166.3612,  986.5320,  260.6665,  986.5320,  297.2047,  986.5320,\n",
      "         302.3079,  986.5320,  290.6728,  986.5320,  240.4582,  986.5320,\n",
      "         136.7632,  243.9284,  296.1841,  287.6109,   67.4569,   69.3140,\n",
      "          60.0524,   68.7250,   71.3211,   62.4353,  127.7876,  122.9856,\n",
      "         124.0314,   48.2345,  124.1172,  102.1239,  125.1051,  125.3553,\n",
      "         104.5049,  124.2459,  102.6452,  129.0638,  131.2988,  125.4335,\n",
      "         115.6958,  113.6067,  130.8167,  124.6539,  121.7609,  117.9883,\n",
      "         130.8064,  135.1601,    4.0611,   77.8709,   91.4617,   60.8237,\n",
      "          20.9319,   20.4174,   17.0446,  111.7682,   43.1660,   50.6144,\n",
      "          19.3593,   27.8646])\n"
     ]
    }
   ],
   "source": [
    "# percs = bd.counts / 56\n",
    "print(bd.responseIdx)\n",
    "print(bd.featureList)\n",
    "print(bd.data['pid'][0])\n",
    "temp = bd.data[bd.data[\"pid\"] == 146518]\n",
    "print(temp['state'][0])\n",
    "print(temp['response'])\n",
    "print(temp['qids'])\n",
    "print(temp['pmsg_ids'])\n",
    "print(temp['paction_sids'])\n",
    "totalFeat = None\n",
    "print(bd.chunkedFeatures[-1][0, -12:])\n",
    "for feat in bd.chunkedFeatures:\n",
    "    if totalFeat is None:\n",
    "        totalFeat = feat.clone()\n",
    "    else:\n",
    "        totalFeat += feat\n",
    "print(totalFeat.std(axis=0))"
   ]
  },
  {
   "cell_type": "code",
   "execution_count": 3,
   "id": "0e7e423f-94e2-4786-9a58-3614f6831a4a",
   "metadata": {
    "tags": []
   },
   "outputs": [
    {
     "name": "stdout",
     "output_type": "stream",
     "text": [
      "(108, 104) (428, 104)\n"
     ]
    },
    {
     "data": {
      "image/png": "[encoded data removed]",
      "text/plain": [
       "<Figure size 640x480 with 1 Axes>"
      ]
     },
     "metadata": {},
     "output_type": "display_data"
    },
    {
     "name": "stderr",
     "output_type": "stream",
     "text": [
      "No artists with labels found to put in legend.  Note that artists whose label start with an underscore are ignored when legend() is called with no argument.\n"
     ]
    },
    {
     "data": {
      "image/png": "[encoded data removed]",
      "text/plain": [
       "<Figure size 640x480 with 1 Axes>"
      ]
     },
     "metadata": {},
     "output_type": "display_data"
    },
    {
     "data": {
      "text/plain": [
       "<Figure size 640x480 with 0 Axes>"
      ]
     },
     "metadata": {},
     "output_type": "display_data"
    }
   ],
   "source": [
    "tests = []\n",
    "trains = []\n",
    "for item in bd.test:\n",
    "    tests.append(bd.features[item].numpy())\n",
    "for item in bd.train:\n",
    "    trains.append(bd.features[item].numpy())\n",
    "\n",
    "tests = np.array(tests)\n",
    "trains = np.array(trains)\n",
    "print(tests.shape, trains.shape)\n",
    "\n",
    "x, y = 10, 1\n",
    "splot = plt.scatter(trains[:, x], trains[:, y], label=f\"Train\")\n",
    "splot = plt.scatter(tests[:, x], tests[:, y], label=f\"Test\")\n",
    "plt.title(\"Train/Test Distribution Checking\")\n",
    "plt.legend()\n",
    "plt.ylabel(f\"Feature {y}\")\n",
    "plt.xlabel(f\"Feature {x}\")\n",
    "plt.show()\n",
    "plt.savefig(\"simpleNotebookDistPlot.png\")\n",
    "plt.clf()\n",
    "\n",
    "splot = plt.boxplot([trains[:, x], tests[:, x]], labels=[\"Train\", \"Test\"])\n",
    "plt.legend()\n",
    "plt.ylabel(f\"Feature {x}\")\n",
    "plt.show()\n",
    "plt.savefig(\"simpleNotebookBoxPlot.png\")\n",
    "plt.clf()\n"
   ]
  },
  {
   "cell_type": "code",
   "execution_count": 4,
   "id": "f8196d9e-564c-4e88-8d8b-a15daabfac5a",
   "metadata": {
    "tags": []
   },
   "outputs": [
    {
     "ename": "NameError",
     "evalue": "name 'percs' is not defined",
     "output_type": "error",
     "traceback": [
      "\u001b[1;31m---------------------------------------------------------------------------\u001b[0m",
      "\u001b[1;31mNameError\u001b[0m                                 Traceback (most recent call last)",
      "\u001b[1;32m~\\AppData\\Local\\Temp\\ipykernel_43124\\2845151291.py\u001b[0m in \u001b[0;36m<module>\u001b[1;34m\u001b[0m\n\u001b[1;32m----> 1\u001b[1;33m \u001b[0mprint\u001b[0m\u001b[1;33m(\u001b[0m\u001b[1;34m\"Percent of participants with 0 responses:\"\u001b[0m\u001b[1;33m,\u001b[0m \u001b[1;33m(\u001b[0m\u001b[0mpercs\u001b[0m\u001b[1;33m[\u001b[0m\u001b[0mpercs\u001b[0m \u001b[1;33m==\u001b[0m \u001b[1;36m0\u001b[0m\u001b[1;33m]\u001b[0m\u001b[1;33m.\u001b[0m\u001b[0mcount\u001b[0m\u001b[1;33m(\u001b[0m\u001b[1;33m)\u001b[0m\u001b[1;33m)\u001b[0m \u001b[1;33m/\u001b[0m \u001b[0mlen\u001b[0m\u001b[1;33m(\u001b[0m\u001b[0mpercs\u001b[0m\u001b[1;33m)\u001b[0m\u001b[1;33m)\u001b[0m\u001b[1;33m\u001b[0m\u001b[1;33m\u001b[0m\u001b[0m\n\u001b[0m\u001b[0;32m      2\u001b[0m \u001b[0mprint\u001b[0m\u001b[1;33m(\u001b[0m\u001b[1;34m\"Percent of participants with >0 responses:\"\u001b[0m\u001b[1;33m,\u001b[0m \u001b[1;33m(\u001b[0m\u001b[0mpercs\u001b[0m\u001b[1;33m[\u001b[0m\u001b[0mpercs\u001b[0m \u001b[1;33m!=\u001b[0m \u001b[1;36m0\u001b[0m\u001b[1;33m]\u001b[0m\u001b[1;33m.\u001b[0m\u001b[0mcount\u001b[0m\u001b[1;33m(\u001b[0m\u001b[1;33m)\u001b[0m\u001b[1;33m)\u001b[0m \u001b[1;33m/\u001b[0m \u001b[0mlen\u001b[0m\u001b[1;33m(\u001b[0m\u001b[0mpercs\u001b[0m\u001b[1;33m)\u001b[0m\u001b[1;33m)\u001b[0m\u001b[1;33m\u001b[0m\u001b[1;33m\u001b[0m\u001b[0m\n\u001b[0;32m      3\u001b[0m \u001b[1;33m\u001b[0m\u001b[0m\n\u001b[0;32m      4\u001b[0m \u001b[0mplt\u001b[0m\u001b[1;33m.\u001b[0m\u001b[0mhist\u001b[0m\u001b[1;33m(\u001b[0m\u001b[0mpercs\u001b[0m\u001b[1;33m)\u001b[0m\u001b[1;33m\u001b[0m\u001b[1;33m\u001b[0m\u001b[0m\n\u001b[0;32m      5\u001b[0m \u001b[0mplt\u001b[0m\u001b[1;33m.\u001b[0m\u001b[0mylabel\u001b[0m\u001b[1;33m(\u001b[0m\u001b[1;34m\"No. Participants\"\u001b[0m\u001b[1;33m)\u001b[0m\u001b[1;33m\u001b[0m\u001b[1;33m\u001b[0m\u001b[0m\n",
      "\u001b[1;31mNameError\u001b[0m: name 'percs' is not defined"
     ]
    }
   ],
   "source": [
    "print(\"Percent of participants with 0 responses:\", (percs[percs == 0].count()) / len(percs))\n",
    "print(\"Percent of participants with >0 responses:\", (percs[percs != 0].count()) / len(percs))\n",
    "\n",
    "plt.hist(percs)\n",
    "plt.ylabel(\"No. Participants\")\n",
    "plt.xlabel(\"Response %\")\n",
    "plt.show()\n",
    "\n",
    "plt.clf()\n",
    "plt.ylabel(\"Response %\")\n",
    "asdf = plt.boxplot(percs)\n",
    "plt.show()\n",
    "print(percs.quantile([.1, .25, .53, .6, .65, .70, .75, .9]))"
   ]
  },
  {
   "cell_type": "code",
   "execution_count": null,
   "id": "10704e09-2c56-4ced-aa8c-b995f9dd0028",
   "metadata": {},
   "outputs": [],
   "source": [
    "print(bd.featureList)"
   ]
  },
  {
   "cell_type": "code",
   "execution_count": null,
   "id": "1909a070-dafd-4343-8c2f-53ad41f0e2f6",
   "metadata": {},
   "outputs": [],
   "source": []
  }
 ],
 "metadata": {
  "kernelspec": {
   "display_name": "Python 3",
   "language": "python",
   "name": "python3"
  },
  "language_info": {
   "codemirror_mode": {
    "name": "ipython",
    "version": 3
   },
   "file_extension": ".py",
   "mimetype": "text/x-python",
   "name": "python",
   "nbconvert_exporter": "python",
   "pygments_lexer": "ipython3",
   "version": "3.7.13"
  },
  "vscode": {
   "interpreter": {
    "hash": "f6e339f590beffb2e62e02c6be9b431caf4c76db3ef9baeb9786d6033ee27a03"
   }
  }
 },
 "nbformat": 4,
 "nbformat_minor": 5
}
