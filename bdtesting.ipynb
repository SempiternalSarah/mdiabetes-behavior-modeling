{
 "cells": [
  {
   "cell_type": "code",
   "execution_count": 1,
   "id": "23791e19-fa29-4321-9a92-62c66249e206",
   "metadata": {
    "tags": []
   },
   "outputs": [],
   "source": [
    "from experiment import Experiment\n",
    "from utils.behavior_data import BehaviorData\n",
    "from visuals import Plotter\n",
    "import torch\n",
    "import numpy as np\n",
    "from utils.state_data import StateData\n",
    "import matplotlib.pyplot as plt\n"
   ]
  },
  {
   "cell_type": "code",
   "execution_count": 2,
   "id": "0b926711-ad95-4517-8ca7-5e4ef90fba55",
   "metadata": {
    "tags": []
   },
   "outputs": [
    {
     "name": "stdout",
     "output_type": "stream",
     "text": [
      "(1613, 34)\n",
      "STATES: 30 30\n",
      "(64, 1613)\n"
     ]
    },
    {
     "ename": "IndexError",
     "evalue": "index 443 is out of bounds for axis 0 with size 64",
     "output_type": "error",
     "traceback": [
      "\u001b[1;31m---------------------------------------------------------------------------\u001b[0m",
      "\u001b[1;31mIndexError\u001b[0m                                Traceback (most recent call last)",
      "\u001b[1;32m~\\AppData\\Local\\Temp\\ipykernel_42032\\980823987.py\u001b[0m in \u001b[0;36m<module>\u001b[1;34m\u001b[0m\n\u001b[0;32m      1\u001b[0m \u001b[0mnp\u001b[0m\u001b[1;33m.\u001b[0m\u001b[0mrandom\u001b[0m\u001b[1;33m.\u001b[0m\u001b[0mseed\u001b[0m\u001b[1;33m(\u001b[0m\u001b[1;36m0\u001b[0m\u001b[1;33m)\u001b[0m\u001b[1;33m\u001b[0m\u001b[1;33m\u001b[0m\u001b[0m\n\u001b[0;32m      2\u001b[0m \u001b[0mtorch\u001b[0m\u001b[1;33m.\u001b[0m\u001b[0mmanual_seed\u001b[0m\u001b[1;33m(\u001b[0m\u001b[1;36m0\u001b[0m\u001b[1;33m)\u001b[0m\u001b[1;33m\u001b[0m\u001b[1;33m\u001b[0m\u001b[0m\n\u001b[1;32m----> 3\u001b[1;33m \u001b[0mbd\u001b[0m \u001b[1;33m=\u001b[0m \u001b[0mBehaviorData\u001b[0m\u001b[1;33m(\u001b[0m\u001b[0mminw\u001b[0m\u001b[1;33m=\u001b[0m\u001b[1;36m2\u001b[0m\u001b[1;33m,\u001b[0m \u001b[0mmaxw\u001b[0m\u001b[1;33m=\u001b[0m\u001b[1;36m31\u001b[0m\u001b[1;33m,\u001b[0m \u001b[0minclude_state\u001b[0m\u001b[1;33m=\u001b[0m\u001b[1;32mTrue\u001b[0m\u001b[1;33m,\u001b[0m \u001b[0minclude_pid\u001b[0m\u001b[1;33m=\u001b[0m\u001b[1;32mFalse\u001b[0m\u001b[1;33m,\u001b[0m \u001b[0mfull_questionnaire\u001b[0m\u001b[1;33m=\u001b[0m\u001b[1;32mTrue\u001b[0m\u001b[1;33m,\u001b[0m \u001b[0mexpanded_states\u001b[0m\u001b[1;33m=\u001b[0m\u001b[1;32mTrue\u001b[0m\u001b[1;33m,\u001b[0m \u001b[0mfull_sequence\u001b[0m\u001b[1;33m=\u001b[0m\u001b[1;32mFalse\u001b[0m\u001b[1;33m)\u001b[0m\u001b[1;33m\u001b[0m\u001b[1;33m\u001b[0m\u001b[0m\n\u001b[0m\u001b[0;32m      4\u001b[0m \u001b[1;33m\u001b[0m\u001b[0m\n\u001b[0;32m      5\u001b[0m \u001b[1;31m# percs = bd.counts / 56\u001b[0m\u001b[1;33m\u001b[0m\u001b[1;33m\u001b[0m\u001b[1;33m\u001b[0m\u001b[0m\n",
      "\u001b[1;32m~\\Code\\HealthLearning\\mdiabetes-behavior-modeling\\utils\\behavior_data.py\u001b[0m in \u001b[0;36m__init__\u001b[1;34m(self, minw, maxw, include_pid, include_state, active_samp, window, train_perc, expanded_states, top_respond_perc, full_questionnaire, full_sequence, insert_predictions, one_hot_response_features, response_feature_noise)\u001b[0m\n\u001b[0;32m     66\u001b[0m             \u001b[0mself\u001b[0m\u001b[1;33m.\u001b[0m\u001b[0mload\u001b[0m\u001b[1;33m(\u001b[0m\u001b[1;33m)\u001b[0m\u001b[1;33m\u001b[0m\u001b[1;33m\u001b[0m\u001b[0m\n\u001b[0;32m     67\u001b[0m         \u001b[1;32melse\u001b[0m\u001b[1;33m:\u001b[0m\u001b[1;33m\u001b[0m\u001b[1;33m\u001b[0m\u001b[0m\n\u001b[1;32m---> 68\u001b[1;33m             \u001b[0mself\u001b[0m\u001b[1;33m.\u001b[0m\u001b[0mdata\u001b[0m \u001b[1;33m=\u001b[0m \u001b[0mself\u001b[0m\u001b[1;33m.\u001b[0m\u001b[0mbuild\u001b[0m\u001b[1;33m(\u001b[0m\u001b[1;33m)\u001b[0m\u001b[1;33m\u001b[0m\u001b[1;33m\u001b[0m\u001b[0m\n\u001b[0m\u001b[0;32m     69\u001b[0m             \u001b[0mself\u001b[0m\u001b[1;33m.\u001b[0m\u001b[0mfeatures\u001b[0m\u001b[1;33m,\u001b[0m \u001b[0mself\u001b[0m\u001b[1;33m.\u001b[0m\u001b[0mlabels\u001b[0m\u001b[1;33m,\u001b[0m \u001b[0mself\u001b[0m\u001b[1;33m.\u001b[0m\u001b[0mfeatureList\u001b[0m \u001b[1;33m=\u001b[0m \u001b[0mself\u001b[0m\u001b[1;33m.\u001b[0m\u001b[0mencode\u001b[0m\u001b[1;33m(\u001b[0m\u001b[0mself\u001b[0m\u001b[1;33m.\u001b[0m\u001b[0mdata\u001b[0m\u001b[1;33m)\u001b[0m\u001b[1;33m\u001b[0m\u001b[1;33m\u001b[0m\u001b[0m\n\u001b[0;32m     70\u001b[0m             \u001b[0mself\u001b[0m\u001b[1;33m.\u001b[0m\u001b[0msave\u001b[0m\u001b[1;33m(\u001b[0m\u001b[1;33m)\u001b[0m\u001b[1;33m\u001b[0m\u001b[1;33m\u001b[0m\u001b[0m\n",
      "\u001b[1;32m~\\Code\\HealthLearning\\mdiabetes-behavior-modeling\\utils\\behavior_data.py\u001b[0m in \u001b[0;36mbuild\u001b[1;34m(self)\u001b[0m\n\u001b[0;32m    300\u001b[0m         \u001b[0menc\u001b[0m \u001b[1;33m=\u001b[0m \u001b[0mOrdinalEncoder\u001b[0m\u001b[1;33m(\u001b[0m\u001b[1;33m)\u001b[0m\u001b[1;33m.\u001b[0m\u001b[0mfit_transform\u001b[0m\u001b[1;33m\u001b[0m\u001b[1;33m\u001b[0m\u001b[0m\n\u001b[0;32m    301\u001b[0m         \u001b[1;31m# load dictionary of pids to states\u001b[0m\u001b[1;33m\u001b[0m\u001b[1;33m\u001b[0m\u001b[1;33m\u001b[0m\u001b[0m\n\u001b[1;32m--> 302\u001b[1;33m         \u001b[0minit_states\u001b[0m\u001b[1;33m,\u001b[0m \u001b[0mstart_weeks\u001b[0m \u001b[1;33m=\u001b[0m \u001b[0mself\u001b[0m\u001b[1;33m.\u001b[0m\u001b[0mload_questionnaire_states\u001b[0m\u001b[1;33m(\u001b[0m\u001b[1;33m)\u001b[0m\u001b[1;33m\u001b[0m\u001b[1;33m\u001b[0m\u001b[0m\n\u001b[0m\u001b[0;32m    303\u001b[0m         \u001b[1;31m# filter out rows that aren't supposed to be here\u001b[0m\u001b[1;33m\u001b[0m\u001b[1;33m\u001b[0m\u001b[1;33m\u001b[0m\u001b[0m\n\u001b[0;32m    304\u001b[0m         \u001b[1;31m# unsure where they come from but they aren't listed in the all_ai_participants.csv\u001b[0m\u001b[1;33m\u001b[0m\u001b[1;33m\u001b[0m\u001b[1;33m\u001b[0m\u001b[0m\n",
      "\u001b[1;32m~\\Code\\HealthLearning\\mdiabetes-behavior-modeling\\utils\\behavior_data.py\u001b[0m in \u001b[0;36mload_questionnaire_states\u001b[1;34m(self)\u001b[0m\n\u001b[0;32m    264\u001b[0m         \u001b[0misect\u001b[0m\u001b[1;33m,\u001b[0m \u001b[0midIdxs\u001b[0m\u001b[1;33m,\u001b[0m \u001b[0mstateIdxs\u001b[0m \u001b[1;33m=\u001b[0m \u001b[0mnp\u001b[0m\u001b[1;33m.\u001b[0m\u001b[0mintersect1d\u001b[0m\u001b[1;33m(\u001b[0m\u001b[0mparticipantIDs\u001b[0m\u001b[1;33m[\u001b[0m\u001b[1;33m:\u001b[0m\u001b[1;33m,\u001b[0m \u001b[1;36m1\u001b[0m\u001b[1;33m]\u001b[0m\u001b[1;33m,\u001b[0m \u001b[0mwhatsapps\u001b[0m\u001b[1;33m,\u001b[0m \u001b[0mreturn_indices\u001b[0m\u001b[1;33m=\u001b[0m\u001b[1;32mTrue\u001b[0m\u001b[1;33m)\u001b[0m\u001b[1;33m\u001b[0m\u001b[1;33m\u001b[0m\u001b[0m\n\u001b[0;32m    265\u001b[0m         \u001b[1;31m# combine the glific IDs with the states into a dictionary and return\u001b[0m\u001b[1;33m\u001b[0m\u001b[1;33m\u001b[0m\u001b[1;33m\u001b[0m\u001b[0m\n\u001b[1;32m--> 266\u001b[1;33m         \u001b[1;32mreturn\u001b[0m \u001b[0mdict\u001b[0m\u001b[1;33m(\u001b[0m\u001b[0mzip\u001b[0m\u001b[1;33m(\u001b[0m\u001b[0mparticipantIDs\u001b[0m\u001b[1;33m[\u001b[0m\u001b[0midIdxs\u001b[0m\u001b[1;33m,\u001b[0m \u001b[1;36m0\u001b[0m\u001b[1;33m]\u001b[0m\u001b[1;33m.\u001b[0m\u001b[0mnumpy\u001b[0m\u001b[1;33m(\u001b[0m\u001b[1;33m)\u001b[0m\u001b[1;33m,\u001b[0m \u001b[0mstates\u001b[0m\u001b[1;33m[\u001b[0m\u001b[0mstateIdxs\u001b[0m\u001b[1;33m]\u001b[0m\u001b[1;33m)\u001b[0m\u001b[1;33m)\u001b[0m\u001b[1;33m,\u001b[0m \u001b[0mstart_weeks\u001b[0m\u001b[1;33m\u001b[0m\u001b[1;33m\u001b[0m\u001b[0m\n\u001b[0m\u001b[0;32m    267\u001b[0m \u001b[1;33m\u001b[0m\u001b[0m\n\u001b[0;32m    268\u001b[0m     \u001b[1;32mdef\u001b[0m \u001b[0mget_participant_start_weeks\u001b[0m\u001b[1;33m(\u001b[0m\u001b[0mself\u001b[0m\u001b[1;33m)\u001b[0m\u001b[1;33m:\u001b[0m\u001b[1;33m\u001b[0m\u001b[1;33m\u001b[0m\u001b[0m\n",
      "\u001b[1;31mIndexError\u001b[0m: index 443 is out of bounds for axis 0 with size 64"
     ]
    }
   ],
   "source": [
    "np.random.seed(0)\n",
    "torch.manual_seed(0)\n",
    "bd = BehaviorData(minw=2, maxw=31, include_state=True, include_pid=False, full_questionnaire=True, expanded_states=True, full_sequence=False)\n",
    "\n",
    "# percs = bd.counts / 56\n",
    "print(bd.responseIdx)\n",
    "print(bd.featureList)\n",
    "print(bd.data['pid'][0])\n",
    "temp = bd.data[bd.data[\"pid\"] == 146518]\n",
    "print(temp['state'][0])\n",
    "print(temp['response'])\n",
    "print(temp['qids'])\n",
    "print(temp['pmsg_ids'])\n",
    "print(temp['paction_sids'])\n",
    "totalFeat = None\n",
    "print(bd.chunkedFeatures[-1][0, -12:])\n",
    "for feat in bd.chunkedFeatures:\n",
    "    if totalFeat is None:\n",
    "        totalFeat = feat.clone()\n",
    "    else:\n",
    "        totalFeat += feat\n",
    "print(totalFeat.std(axis=0))"
   ]
  },
  {
   "cell_type": "code",
   "execution_count": null,
   "id": "0e7e423f-94e2-4786-9a58-3614f6831a4a",
   "metadata": {
    "tags": []
   },
   "outputs": [],
   "source": [
    "tests = []\n",
    "trains = []\n",
    "for item in bd.test:\n",
    "    tests.append(bd.features[item].numpy())\n",
    "for item in bd.train:\n",
    "    trains.append(bd.features[item].numpy())\n",
    "\n",
    "tests = np.array(tests)\n",
    "trains = np.array(trains)\n",
    "print(tests.shape, trains.shape)\n",
    "\n",
    "x, y = 10, 1\n",
    "splot = plt.scatter(trains[:, x], trains[:, y], label=f\"Train\")\n",
    "splot = plt.scatter(tests[:, x], tests[:, y], label=f\"Test\")\n",
    "plt.title(\"Train/Test Distribution Checking\")\n",
    "plt.legend()\n",
    "plt.ylabel(f\"Feature {y}\")\n",
    "plt.xlabel(f\"Feature {x}\")\n",
    "plt.show()\n",
    "plt.savefig(\"simpleNotebookDistPlot.png\")\n",
    "plt.clf()\n",
    "\n",
    "splot = plt.boxplot([trains[:, x], tests[:, x]], labels=[\"Train\", \"Test\"])\n",
    "plt.legend()\n",
    "plt.ylabel(f\"Feature {x}\")\n",
    "plt.show()\n",
    "plt.savefig(\"simpleNotebookBoxPlot.png\")\n",
    "plt.clf()\n"
   ]
  },
  {
   "cell_type": "code",
   "execution_count": null,
   "id": "f8196d9e-564c-4e88-8d8b-a15daabfac5a",
   "metadata": {
    "tags": []
   },
   "outputs": [],
   "source": [
    "print(\"Percent of participants with 0 responses:\", (percs[percs == 0].count()) / len(percs))\n",
    "print(\"Percent of participants with >0 responses:\", (percs[percs != 0].count()) / len(percs))\n",
    "\n",
    "plt.hist(percs)\n",
    "plt.ylabel(\"No. Participants\")\n",
    "plt.xlabel(\"Response %\")\n",
    "plt.show()\n",
    "\n",
    "plt.clf()\n",
    "plt.ylabel(\"Response %\")\n",
    "asdf = plt.boxplot(percs)\n",
    "plt.show()\n",
    "print(percs.quantile([.1, .25, .53, .6, .65, .70, .75, .9]))"
   ]
  },
  {
   "cell_type": "code",
   "execution_count": null,
   "id": "10704e09-2c56-4ced-aa8c-b995f9dd0028",
   "metadata": {},
   "outputs": [],
   "source": [
    "print(bd.featureList)"
   ]
  },
  {
   "cell_type": "code",
   "execution_count": null,
   "id": "1909a070-dafd-4343-8c2f-53ad41f0e2f6",
   "metadata": {},
   "outputs": [],
   "source": []
  }
 ],
 "metadata": {
  "kernelspec": {
   "display_name": "Python 3",
   "language": "python",
   "name": "python3"
  },
  "language_info": {
   "codemirror_mode": {
    "name": "ipython",
    "version": 3
   },
   "file_extension": ".py",
   "mimetype": "text/x-python",
   "name": "python",
   "nbconvert_exporter": "python",
   "pygments_lexer": "ipython3",
   "version": "3.7.13"
  },
  "vscode": {
   "interpreter": {
    "hash": "f6e339f590beffb2e62e02c6be9b431caf4c76db3ef9baeb9786d6033ee27a03"
   }
  }
 },
 "nbformat": 4,
 "nbformat_minor": 5
}
