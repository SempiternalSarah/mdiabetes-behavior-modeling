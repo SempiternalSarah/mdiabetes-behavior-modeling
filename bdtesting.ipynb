{
 "cells": [
  {
   "cell_type": "code",
   "execution_count": 1,
   "id": "23791e19-fa29-4321-9a92-62c66249e206",
   "metadata": {
    "tags": []
   },
   "outputs": [],
   "source": [
    "from experiment import Experiment\n",
    "from utils.behavior_data import BehaviorData\n",
    "from visuals import Plotter\n",
    "import torch\n",
    "import numpy as np\n",
    "from utils.state_data import StateData\n",
    "import matplotlib.pyplot as plt\n"
   ]
  },
  {
   "cell_type": "code",
   "execution_count": 8,
   "id": "580ee064-45fa-4804-8f38-1ac2bd3580a5",
   "metadata": {
    "tags": []
   },
   "outputs": [
    {
     "name": "stdout",
     "output_type": "stream",
     "text": [
      "['state' 'state' 'state' 'state' 'state' 'state' 'state' 'state' 'state'\n",
      " 'state' 'state' 'state' 'state' 'state' 'state' 'state' 'state' 'state'\n",
      " 'state' 'state' 'state' 'state' 'state' 'state' 'state' 'state' 'state'\n",
      " 'state' 'state' 'state' 'state' 'state' 'state' 'state' 'state' 'state'\n",
      " 'state' 'state' 'state' 'state' 'state' 'state' 'state' 'state' 'state'\n",
      " 'state' 'state' 'state' 'state' 'state' 'state' 'state' 'state' 'state'\n",
      " 'state' 'state' 'state' 'state' 'state' 'state' 'state' 'state' 'state'\n",
      " 'state' 'state' 'state' 'state' 'state' 'state' 'state' 'state' 'state'\n",
      " 'state' 'state' 'state' 'state' 'state' 'state' 'state' 'state' 'state'\n",
      " 'state' 'state' 'state' 'state' 'state' 'state' 'state' 'state' 'state'\n",
      " 'state' 'state' 'state' 'state' 'state' 'state' 'state' 'state' 'state'\n",
      " 'state' 'state' 'state' 'state' 'state' 'state' 'state' 'state' 'state'\n",
      " 'state' 'state' 'state' 'state' 'state' 'state' 'state' 'state' 'state'\n",
      " 'state' 'state' 'state' 'state' 'state' 'state' 'state' 'state' 'state'\n",
      " 'state' 'state' 'state' 'state' 'state' 'state' 'state' 'state' 'state'\n",
      " 'state' 'state' 'state' 'state' 'state' 'state' 'state' 'state' 'state'\n",
      " 'state' 'state' 'state' 'state' 'state' 'state' 'state' 'state' 'state'\n",
      " 'state' 'state' 'state' 'state' 'state' 'state' 'state' 'state' 'state'\n",
      " 'state' 'state' 'state' 'state' 'state' 'state' 'state' 'state' 'state'\n",
      " 'state' 'state' 'state' 'state' 'state' 'state' 'state' 'state' 'state'\n",
      " 'state' 'state' 'state' 'state' 'response_last_q1' 'response_last_q1'\n",
      " 'response_last_q1' 'paction_sids_q1' 'paction_sids_q1' 'paction_sids_q1'\n",
      " 'paction_sids_q1' 'paction_sids_q1' 'pmsg_ids_q1' 'pmsg_ids_q1'\n",
      " 'pmsg_ids_q1' 'pmsg_ids_q1' 'pmsg_ids_q1' 'pmsg_ids_q1' 'qids_q1'\n",
      " 'qids_q1' 'qids_q1' 'qids_q1' 'qids_q1' 'qids_q1' 'q1_cat' 'q1_cat']\n",
      "Consumption: 5236\n",
      "Exercise: 461\n",
      "Knowledge: 7215\n",
      "Consumption Response Levels: [ 745 1362 1257]\n",
      "Exercise Response Levels: [139  94  62]\n",
      "Knowledge Response Levels: [1164  381 2812]\n",
      "Healthy Fruits                :\t390\n",
      "Healthy Vegetables            :\t1088\n",
      "Healthy Snacks/Breakfast      :\t584\n",
      "Healthy Other                 :\t943\n",
      "Unhealthy Tobacco             :\t402\n",
      "Unhealthy Alcohol             :\t348\n",
      "Unhealthy Restaurant          :\t418\n",
      "Unhealthy Junk                :\t1063\n",
      "Fitness Overall               :\t150\n",
      "Fitness Sports                :\t156\n",
      "Fitness Walking               :\t155\n",
      "Cause Weight                  :\t885\n",
      "Cause Diet                    :\t881\n",
      "Cause Exercise                :\t3111\n",
      "Complication Knowledge        :\t2338\n"
     ]
    },
    {
     "data": {
      "image/png": "[encoded data removed]",
      "text/plain": [
       "<Figure size 640x480 with 1 Axes>"
      ]
     },
     "metadata": {},
     "output_type": "display_data"
    },
    {
     "data": {
      "text/plain": [
       "<Figure size 640x480 with 0 Axes>"
      ]
     },
     "metadata": {},
     "output_type": "display_data"
    }
   ],
   "source": [
    "elem_map = [\n",
    "      \"Healthy Fruits\",\n",
    "      \"Healthy Vegetables\",\n",
    "      \"Healthy Snacks/Breakfast\",\n",
    "      \"Healthy Other\",\n",
    "      \"Unhealthy Tobacco\",\n",
    "      \"Unhealthy Alcohol\",\n",
    "      \"Unhealthy Restaurant\",\n",
    "      \"Unhealthy Junk\",\n",
    "      \"Fitness Overall\",\n",
    "      \"Fitness Sports\",\n",
    "      \"Fitness Gym\",\n",
    "      \"Fitness Walking\",\n",
    "      \"Cause Knowledge Overall\",\n",
    "      \"Cause Weight\",\n",
    "      \"Cause Diet\",\n",
    "      \"Cause Exercise\",\n",
    "      \"Complication Knowledge\"\n",
    "]\n",
    "\n",
    "np.random.seed(0)\n",
    "torch.manual_seed(0)\n",
    "bd = BehaviorData(top_respond_perc=0.5, minw=2, maxw=31, include_state=True, include_pid=False, full_questionnaire=True, expanded_states=True, full_sequence=False, split_weekly_questions=True, split_model_features=True)\n",
    "# print(bd.data[\"qids\"].counts)\n",
    "counts = bd.get_weekly_response_rates()\n",
    "consumptionRows = (torch.where(bd.features[:, -1] == 0, 1, 0) * torch.where(bd.features[:, -2] == 0, 1, 0)).nonzero()\n",
    "\n",
    "print(\"Consumption:\", consumptionRows.shape[0])\n",
    "\n",
    "consumptionRows = (torch.where(bd.features[:, -1] == 1, 1, 0) * torch.where(bd.features[:, -2] == 0, 1, 0)).nonzero()\n",
    "print(\"Exercise:\", consumptionRows.shape[0])\n",
    "                   \n",
    "consumptionRows = (torch.where(bd.features[:, -1] == 0, 1, 0) * torch.where(bd.features[:, -2] == 1, 1, 0)).nonzero()\n",
    "print(\"Knowledge:\", consumptionRows.shape[0])\n",
    "splot = plt.plot(counts)\n",
    "\n",
    "rlvllist = []\n",
    "rlvls = np.array(bd.data[\"response\"])\n",
    "for rlvl in rlvls:\n",
    "    rlvllist.append(rlvl[0])\n",
    "    rlvllist.append(rlvl[1])\n",
    "rlvllist = np.array(rlvllist)\n",
    "\n",
    "sidlist = []\n",
    "sids = np.array(bd.data[\"paction_sids\"])\n",
    "for sid in sids:\n",
    "    sidlist.append(sid[0])\n",
    "    sidlist.append(sid[1])\n",
    "sidlist = np.array(sidlist)\n",
    "    \n",
    "conRs = rlvllist[sidlist < 9]\n",
    "mask = (sidlist < 13) & (sidlist > 8)\n",
    "exerRs = rlvllist[mask]\n",
    "knowRs = rlvllist[sidlist > 12]\n",
    "vals, counts = np.unique(conRs, return_counts=True)\n",
    "print(\"Consumption Response Levels:\", counts[1:])\n",
    "vals, counts = np.unique(exerRs, return_counts=True)\n",
    "print(\"Exercise Response Levels:\", counts[1:])\n",
    "vals, counts = np.unique(knowRs, return_counts=True)\n",
    "print(\"Knowledge Response Levels:\", counts[1:])    \n",
    "    \n",
    "vals, counts = np.unique(sidlist, return_counts=True)\n",
    "# print(vals)\n",
    "# print(counts.sum())\n",
    "for val, count in zip(vals, counts):\n",
    "    print(f\"{elem_map[val - 1]:30}:\\t{count}\")\n",
    "\n",
    "plt.ylabel(\"Response Rate\")\n",
    "plt.ylim(0, 1)\n",
    "plt.xlabel(\"Week (participant specific)\")\n",
    "plt.title(\"Weekly Response Rates\")\n",
    "plt.show()\n",
    "plt.clf()"
   ]
  },
  {
   "cell_type": "code",
   "execution_count": 3,
   "id": "7ae7760b-b31d-482b-b44a-b4feae238dd8",
   "metadata": {
    "tags": []
   },
   "outputs": [
    {
     "name": "stdout",
     "output_type": "stream",
     "text": [
      "184\n",
      "['state' 'state' 'state' 'state' 'state' 'state' 'state' 'state' 'state'\n",
      " 'state' 'state' 'state' 'state' 'state' 'state' 'state' 'state' 'state'\n",
      " 'state' 'state' 'state' 'state' 'state' 'state' 'state' 'state' 'state'\n",
      " 'state' 'state' 'state' 'state' 'state' 'state' 'state' 'state' 'state'\n",
      " 'state' 'state' 'state' 'state' 'state' 'state' 'state' 'state' 'state'\n",
      " 'state' 'state' 'state' 'state' 'state' 'state' 'state' 'state' 'state'\n",
      " 'state' 'state' 'state' 'state' 'state' 'state' 'state' 'state' 'state'\n",
      " 'state' 'state' 'state' 'state' 'state' 'state' 'state' 'state' 'state'\n",
      " 'state' 'state' 'state' 'state' 'state' 'state' 'state' 'state' 'state'\n",
      " 'state' 'state' 'state' 'state' 'state' 'state' 'state' 'state' 'state'\n",
      " 'state' 'state' 'state' 'state' 'state' 'state' 'state' 'state' 'state'\n",
      " 'state' 'state' 'state' 'state' 'state' 'state' 'state' 'state' 'state'\n",
      " 'state' 'state' 'state' 'state' 'state' 'state' 'state' 'state' 'state'\n",
      " 'state' 'state' 'state' 'state' 'state' 'state' 'state' 'state' 'state'\n",
      " 'state' 'state' 'state' 'state' 'state' 'state' 'state' 'state' 'state'\n",
      " 'state' 'state' 'state' 'state' 'state' 'state' 'state' 'state' 'state'\n",
      " 'state' 'state' 'state' 'state' 'state' 'state' 'state' 'state' 'state'\n",
      " 'state' 'state' 'state' 'state' 'state' 'state' 'state' 'state' 'state'\n",
      " 'state' 'state' 'state' 'state' 'state' 'state' 'state' 'state' 'state'\n",
      " 'state' 'state' 'state' 'state' 'state' 'state' 'state' 'state' 'state'\n",
      " 'state' 'state' 'state' 'state' 'response_last_q1' 'response_last_q1'\n",
      " 'response_last_q1' 'paction_sids_q1' 'paction_sids_q1' 'paction_sids_q1'\n",
      " 'paction_sids_q1' 'paction_sids_q1' 'pmsg_ids_q1' 'pmsg_ids_q1'\n",
      " 'pmsg_ids_q1' 'pmsg_ids_q1' 'pmsg_ids_q1' 'pmsg_ids_q1' 'qids_q1'\n",
      " 'qids_q1' 'qids_q1' 'qids_q1' 'qids_q1' 'qids_q1' 'q1_cat' 'q1_cat']\n"
     ]
    },
    {
     "ename": "KeyError",
     "evalue": "0",
     "output_type": "error",
     "traceback": [
      "\u001b[1;31m---------------------------------------------------------------------------\u001b[0m",
      "\u001b[1;31mKeyError\u001b[0m                                  Traceback (most recent call last)",
      "\u001b[1;32m~\\miniconda3\\envs\\mdiabetes\\lib\\site-packages\\pandas\\core\\indexes\\base.py\u001b[0m in \u001b[0;36mget_loc\u001b[1;34m(self, key, method, tolerance)\u001b[0m\n\u001b[0;32m   3360\u001b[0m             \u001b[1;32mtry\u001b[0m\u001b[1;33m:\u001b[0m\u001b[1;33m\u001b[0m\u001b[1;33m\u001b[0m\u001b[0m\n\u001b[1;32m-> 3361\u001b[1;33m                 \u001b[1;32mreturn\u001b[0m \u001b[0mself\u001b[0m\u001b[1;33m.\u001b[0m\u001b[0m_engine\u001b[0m\u001b[1;33m.\u001b[0m\u001b[0mget_loc\u001b[0m\u001b[1;33m(\u001b[0m\u001b[0mcasted_key\u001b[0m\u001b[1;33m)\u001b[0m\u001b[1;33m\u001b[0m\u001b[1;33m\u001b[0m\u001b[0m\n\u001b[0m\u001b[0;32m   3362\u001b[0m             \u001b[1;32mexcept\u001b[0m \u001b[0mKeyError\u001b[0m \u001b[1;32mas\u001b[0m \u001b[0merr\u001b[0m\u001b[1;33m:\u001b[0m\u001b[1;33m\u001b[0m\u001b[1;33m\u001b[0m\u001b[0m\n",
      "\u001b[1;32m~\\miniconda3\\envs\\mdiabetes\\lib\\site-packages\\pandas\\_libs\\index.pyx\u001b[0m in \u001b[0;36mpandas._libs.index.IndexEngine.get_loc\u001b[1;34m()\u001b[0m\n",
      "\u001b[1;32m~\\miniconda3\\envs\\mdiabetes\\lib\\site-packages\\pandas\\_libs\\index.pyx\u001b[0m in \u001b[0;36mpandas._libs.index.IndexEngine.get_loc\u001b[1;34m()\u001b[0m\n",
      "\u001b[1;32mpandas\\_libs\\hashtable_class_helper.pxi\u001b[0m in \u001b[0;36mpandas._libs.hashtable.Int64HashTable.get_item\u001b[1;34m()\u001b[0m\n",
      "\u001b[1;32mpandas\\_libs\\hashtable_class_helper.pxi\u001b[0m in \u001b[0;36mpandas._libs.hashtable.Int64HashTable.get_item\u001b[1;34m()\u001b[0m\n",
      "\u001b[1;31mKeyError\u001b[0m: 0",
      "\nThe above exception was the direct cause of the following exception:\n",
      "\u001b[1;31mKeyError\u001b[0m                                  Traceback (most recent call last)",
      "\u001b[1;32m~\\AppData\\Local\\Temp\\ipykernel_31276\\1622215438.py\u001b[0m in \u001b[0;36m<module>\u001b[1;34m\u001b[0m\n\u001b[0;32m      2\u001b[0m \u001b[0mprint\u001b[0m\u001b[1;33m(\u001b[0m\u001b[0mbd\u001b[0m\u001b[1;33m.\u001b[0m\u001b[0mresponseIdx\u001b[0m\u001b[1;33m)\u001b[0m\u001b[1;33m\u001b[0m\u001b[1;33m\u001b[0m\u001b[0m\n\u001b[0;32m      3\u001b[0m \u001b[0mprint\u001b[0m\u001b[1;33m(\u001b[0m\u001b[0mbd\u001b[0m\u001b[1;33m.\u001b[0m\u001b[0mfeatureList\u001b[0m\u001b[1;33m)\u001b[0m\u001b[1;33m\u001b[0m\u001b[1;33m\u001b[0m\u001b[0m\n\u001b[1;32m----> 4\u001b[1;33m \u001b[0mprint\u001b[0m\u001b[1;33m(\u001b[0m\u001b[0mbd\u001b[0m\u001b[1;33m.\u001b[0m\u001b[0mdata\u001b[0m\u001b[1;33m[\u001b[0m\u001b[1;34m'pid'\u001b[0m\u001b[1;33m]\u001b[0m\u001b[1;33m[\u001b[0m\u001b[1;36m0\u001b[0m\u001b[1;33m]\u001b[0m\u001b[1;33m)\u001b[0m\u001b[1;33m\u001b[0m\u001b[1;33m\u001b[0m\u001b[0m\n\u001b[0m\u001b[0;32m      5\u001b[0m \u001b[0mtemp\u001b[0m \u001b[1;33m=\u001b[0m \u001b[0mbd\u001b[0m\u001b[1;33m.\u001b[0m\u001b[0mdata\u001b[0m\u001b[1;33m[\u001b[0m\u001b[0mbd\u001b[0m\u001b[1;33m.\u001b[0m\u001b[0mdata\u001b[0m\u001b[1;33m[\u001b[0m\u001b[1;34m\"pid\"\u001b[0m\u001b[1;33m]\u001b[0m \u001b[1;33m==\u001b[0m \u001b[1;36m146518\u001b[0m\u001b[1;33m]\u001b[0m\u001b[1;33m\u001b[0m\u001b[1;33m\u001b[0m\u001b[0m\n\u001b[0;32m      6\u001b[0m \u001b[0mprint\u001b[0m\u001b[1;33m(\u001b[0m\u001b[0mtemp\u001b[0m\u001b[1;33m[\u001b[0m\u001b[1;34m'state'\u001b[0m\u001b[1;33m]\u001b[0m\u001b[1;33m[\u001b[0m\u001b[1;36m0\u001b[0m\u001b[1;33m]\u001b[0m\u001b[1;33m)\u001b[0m\u001b[1;33m\u001b[0m\u001b[1;33m\u001b[0m\u001b[0m\n",
      "\u001b[1;32m~\\miniconda3\\envs\\mdiabetes\\lib\\site-packages\\pandas\\core\\series.py\u001b[0m in \u001b[0;36m__getitem__\u001b[1;34m(self, key)\u001b[0m\n\u001b[0;32m    940\u001b[0m \u001b[1;33m\u001b[0m\u001b[0m\n\u001b[0;32m    941\u001b[0m         \u001b[1;32melif\u001b[0m \u001b[0mkey_is_scalar\u001b[0m\u001b[1;33m:\u001b[0m\u001b[1;33m\u001b[0m\u001b[1;33m\u001b[0m\u001b[0m\n\u001b[1;32m--> 942\u001b[1;33m             \u001b[1;32mreturn\u001b[0m \u001b[0mself\u001b[0m\u001b[1;33m.\u001b[0m\u001b[0m_get_value\u001b[0m\u001b[1;33m(\u001b[0m\u001b[0mkey\u001b[0m\u001b[1;33m)\u001b[0m\u001b[1;33m\u001b[0m\u001b[1;33m\u001b[0m\u001b[0m\n\u001b[0m\u001b[0;32m    943\u001b[0m \u001b[1;33m\u001b[0m\u001b[0m\n\u001b[0;32m    944\u001b[0m         \u001b[1;32mif\u001b[0m \u001b[0mis_hashable\u001b[0m\u001b[1;33m(\u001b[0m\u001b[0mkey\u001b[0m\u001b[1;33m)\u001b[0m\u001b[1;33m:\u001b[0m\u001b[1;33m\u001b[0m\u001b[1;33m\u001b[0m\u001b[0m\n",
      "\u001b[1;32m~\\miniconda3\\envs\\mdiabetes\\lib\\site-packages\\pandas\\core\\series.py\u001b[0m in \u001b[0;36m_get_value\u001b[1;34m(self, label, takeable)\u001b[0m\n\u001b[0;32m   1049\u001b[0m \u001b[1;33m\u001b[0m\u001b[0m\n\u001b[0;32m   1050\u001b[0m         \u001b[1;31m# Similar to Index.get_value, but we do not fall back to positional\u001b[0m\u001b[1;33m\u001b[0m\u001b[1;33m\u001b[0m\u001b[1;33m\u001b[0m\u001b[0m\n\u001b[1;32m-> 1051\u001b[1;33m         \u001b[0mloc\u001b[0m \u001b[1;33m=\u001b[0m \u001b[0mself\u001b[0m\u001b[1;33m.\u001b[0m\u001b[0mindex\u001b[0m\u001b[1;33m.\u001b[0m\u001b[0mget_loc\u001b[0m\u001b[1;33m(\u001b[0m\u001b[0mlabel\u001b[0m\u001b[1;33m)\u001b[0m\u001b[1;33m\u001b[0m\u001b[1;33m\u001b[0m\u001b[0m\n\u001b[0m\u001b[0;32m   1052\u001b[0m         \u001b[1;32mreturn\u001b[0m \u001b[0mself\u001b[0m\u001b[1;33m.\u001b[0m\u001b[0mindex\u001b[0m\u001b[1;33m.\u001b[0m\u001b[0m_get_values_for_loc\u001b[0m\u001b[1;33m(\u001b[0m\u001b[0mself\u001b[0m\u001b[1;33m,\u001b[0m \u001b[0mloc\u001b[0m\u001b[1;33m,\u001b[0m \u001b[0mlabel\u001b[0m\u001b[1;33m)\u001b[0m\u001b[1;33m\u001b[0m\u001b[1;33m\u001b[0m\u001b[0m\n\u001b[0;32m   1053\u001b[0m \u001b[1;33m\u001b[0m\u001b[0m\n",
      "\u001b[1;32m~\\miniconda3\\envs\\mdiabetes\\lib\\site-packages\\pandas\\core\\indexes\\base.py\u001b[0m in \u001b[0;36mget_loc\u001b[1;34m(self, key, method, tolerance)\u001b[0m\n\u001b[0;32m   3361\u001b[0m                 \u001b[1;32mreturn\u001b[0m \u001b[0mself\u001b[0m\u001b[1;33m.\u001b[0m\u001b[0m_engine\u001b[0m\u001b[1;33m.\u001b[0m\u001b[0mget_loc\u001b[0m\u001b[1;33m(\u001b[0m\u001b[0mcasted_key\u001b[0m\u001b[1;33m)\u001b[0m\u001b[1;33m\u001b[0m\u001b[1;33m\u001b[0m\u001b[0m\n\u001b[0;32m   3362\u001b[0m             \u001b[1;32mexcept\u001b[0m \u001b[0mKeyError\u001b[0m \u001b[1;32mas\u001b[0m \u001b[0merr\u001b[0m\u001b[1;33m:\u001b[0m\u001b[1;33m\u001b[0m\u001b[1;33m\u001b[0m\u001b[0m\n\u001b[1;32m-> 3363\u001b[1;33m                 \u001b[1;32mraise\u001b[0m \u001b[0mKeyError\u001b[0m\u001b[1;33m(\u001b[0m\u001b[0mkey\u001b[0m\u001b[1;33m)\u001b[0m \u001b[1;32mfrom\u001b[0m \u001b[0merr\u001b[0m\u001b[1;33m\u001b[0m\u001b[1;33m\u001b[0m\u001b[0m\n\u001b[0m\u001b[0;32m   3364\u001b[0m \u001b[1;33m\u001b[0m\u001b[0m\n\u001b[0;32m   3365\u001b[0m         \u001b[1;32mif\u001b[0m \u001b[0mis_scalar\u001b[0m\u001b[1;33m(\u001b[0m\u001b[0mkey\u001b[0m\u001b[1;33m)\u001b[0m \u001b[1;32mand\u001b[0m \u001b[0misna\u001b[0m\u001b[1;33m(\u001b[0m\u001b[0mkey\u001b[0m\u001b[1;33m)\u001b[0m \u001b[1;32mand\u001b[0m \u001b[1;32mnot\u001b[0m \u001b[0mself\u001b[0m\u001b[1;33m.\u001b[0m\u001b[0mhasnans\u001b[0m\u001b[1;33m:\u001b[0m\u001b[1;33m\u001b[0m\u001b[1;33m\u001b[0m\u001b[0m\n",
      "\u001b[1;31mKeyError\u001b[0m: 0"
     ]
    }
   ],
   "source": [
    "# percs = bd.counts / 56\n",
    "print(bd.responseIdx)\n",
    "print(bd.featureList)\n",
    "print(bd.data['pid'][0])\n",
    "temp = bd.data[bd.data[\"pid\"] == 146518]\n",
    "print(temp['state'][0])\n",
    "print(temp['response'])\n",
    "print(temp['qids'])\n",
    "print(temp['pmsg_ids'])\n",
    "print(temp['paction_sids'])\n",
    "totalFeat = None\n",
    "print(bd.chunkedFeatures[-1][0, -12:])\n",
    "for feat in bd.chunkedFeatures:\n",
    "    if totalFeat is None:\n",
    "        totalFeat = feat.clone()\n",
    "    else:\n",
    "        totalFeat += feat\n",
    "print(totalFeat.std(axis=0))"
   ]
  },
  {
   "cell_type": "code",
   "execution_count": null,
   "id": "0e7e423f-94e2-4786-9a58-3614f6831a4a",
   "metadata": {
    "tags": []
   },
   "outputs": [],
   "source": [
    "tests = []\n",
    "trains = []\n",
    "for item in bd.test:\n",
    "    tests.append(bd.features[item].numpy())\n",
    "for item in bd.train:\n",
    "    trains.append(bd.features[item].numpy())\n",
    "\n",
    "tests = np.array(tests)\n",
    "trains = np.array(trains)\n",
    "print(tests.shape, trains.shape)\n",
    "\n",
    "x, y = 10, 1\n",
    "splot = plt.scatter(trains[:, x], trains[:, y], label=f\"Train\")\n",
    "splot = plt.scatter(tests[:, x], tests[:, y], label=f\"Test\")\n",
    "plt.title(\"Train/Test Distribution Checking\")\n",
    "plt.legend()\n",
    "plt.ylabel(f\"Feature {y}\")\n",
    "plt.xlabel(f\"Feature {x}\")\n",
    "plt.show()\n",
    "plt.savefig(\"simpleNotebookDistPlot.png\")\n",
    "plt.clf()\n",
    "\n",
    "splot = plt.boxplot([trains[:, x], tests[:, x]], labels=[\"Train\", \"Test\"])\n",
    "plt.legend()\n",
    "plt.ylabel(f\"Feature {x}\")\n",
    "plt.show()\n",
    "plt.savefig(\"simpleNotebookBoxPlot.png\")\n",
    "plt.clf()\n"
   ]
  },
  {
   "cell_type": "code",
   "execution_count": null,
   "id": "f8196d9e-564c-4e88-8d8b-a15daabfac5a",
   "metadata": {
    "tags": []
   },
   "outputs": [],
   "source": [
    "print(\"Percent of participants with 0 responses:\", (percs[percs == 0].count()) / len(percs))\n",
    "print(\"Percent of participants with >0 responses:\", (percs[percs != 0].count()) / len(percs))\n",
    "\n",
    "plt.hist(percs)\n",
    "plt.ylabel(\"No. Participants\")\n",
    "plt.xlabel(\"Response %\")\n",
    "plt.show()\n",
    "\n",
    "plt.clf()\n",
    "plt.ylabel(\"Response %\")\n",
    "asdf = plt.boxplot(percs)\n",
    "plt.show()\n",
    "print(percs.quantile([.1, .25, .53, .6, .65, .70, .75, .9]))"
   ]
  },
  {
   "cell_type": "code",
   "execution_count": null,
   "id": "10704e09-2c56-4ced-aa8c-b995f9dd0028",
   "metadata": {},
   "outputs": [],
   "source": [
    "print(bd.featureList)"
   ]
  },
  {
   "cell_type": "code",
   "execution_count": null,
   "id": "1909a070-dafd-4343-8c2f-53ad41f0e2f6",
   "metadata": {},
   "outputs": [],
   "source": []
  }
 ],
 "metadata": {
  "kernelspec": {
   "display_name": "Python 3",
   "language": "python",
   "name": "python3"
  },
  "language_info": {
   "codemirror_mode": {
    "name": "ipython",
    "version": 3
   },
   "file_extension": ".py",
   "mimetype": "text/x-python",
   "name": "python",
   "nbconvert_exporter": "python",
   "pygments_lexer": "ipython3",
   "version": "3.7.13"
  },
  "vscode": {
   "interpreter": {
    "hash": "f6e339f590beffb2e62e02c6be9b431caf4c76db3ef9baeb9786d6033ee27a03"
   }
  }
 },
 "nbformat": 4,
 "nbformat_minor": 5
}
