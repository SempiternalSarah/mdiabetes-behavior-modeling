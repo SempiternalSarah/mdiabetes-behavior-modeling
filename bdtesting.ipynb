{
 "cells": [
  {
   "cell_type": "code",
   "execution_count": 1,
   "id": "23791e19-fa29-4321-9a92-62c66249e206",
   "metadata": {
    "tags": []
   },
   "outputs": [],
   "source": [
    "from experiment import Experiment\n",
    "from utils.behavior_data import BehaviorData\n",
    "from visuals import Plotter\n",
    "import torch\n",
    "import numpy as np\n",
    "from utils.state_data import StateData\n",
    "import matplotlib.pyplot as plt\n"
   ]
  },
  {
   "cell_type": "code",
   "execution_count": null,
   "id": "580ee064-45fa-4804-8f38-1ac2bd3580a5",
   "metadata": {
    "tags": []
   },
   "outputs": [
    {
     "name": "stdout",
     "output_type": "stream",
     "text": [
      "268 537\n",
      "pmsg_sids\n",
      "paction_sids\n",
      "pmsg_ids\n",
      "qids\n",
      "response\n"
     ]
    }
   ],
   "source": [
    "elem_map = [\n",
    "      \"Healthy Fruits\",\n",
    "      \"Healthy Vegetables\",\n",
    "      \"Healthy Snacks/Breakfast\",\n",
    "      \"Healthy Other\",\n",
    "      \"Unhealthy Tobacco\",\n",
    "      \"Unhealthy Alcohol\",\n",
    "      \"Unhealthy Restaurant\",\n",
    "      \"Unhealthy Junk\",\n",
    "      \"Fitness Overall\",\n",
    "      \"Fitness Sports\",\n",
    "      \"Fitness Gym\",\n",
    "      \"Fitness Walking\",\n",
    "      \"Cause Knowledge Overall\",\n",
    "      \"Cause Weight\",\n",
    "      \"Cause Diet\",\n",
    "      \"Cause Exercise\",\n",
    "      \"Complication Knowledge\"\n",
    "]\n",
    "\n",
    "np.random.seed(0)\n",
    "torch.manual_seed(0)\n",
    "bd = BehaviorData(top_respond_perc=0.5, \n",
    "                  minw=2, \n",
    "                  maxw=31, \n",
    "                  include_state=True, \n",
    "                  include_pid=False, \n",
    "                  full_questionnaire=True, \n",
    "                  expanded_states=True, \n",
    "                  split_weekly_questions=True, \n",
    "                  split_model_features=True,\n",
    "                  num_weeks_history=4,\n",
    "                  category_specific_history=True)\n",
    "# print(bd.data[\"qids\"].counts)\n",
    "counts = bd.get_weekly_response_rates()\n",
    "consumptionRows = (torch.where(bd.features[:, -1] == 0, 1, 0) * torch.where(bd.features[:, -2] == 0, 1, 0)).nonzero()\n",
    "\n",
    "print(\"Consumption:\", consumptionRows.shape[0])\n",
    "\n",
    "consumptionRows = (torch.where(bd.features[:, -1] == 1, 1, 0) * torch.where(bd.features[:, -2] == 0, 1, 0)).nonzero()\n",
    "print(\"Exercise:\", consumptionRows.shape[0])\n",
    "                   \n",
    "consumptionRows = (torch.where(bd.features[:, -1] == 0, 1, 0) * torch.where(bd.features[:, -2] == 1, 1, 0)).nonzero()\n",
    "print(\"Knowledge:\", consumptionRows.shape[0])\n",
    "splot = plt.plot(counts)\n",
    "\n",
    "rlvllist = []\n",
    "rlvls = np.array(bd.data[\"response\"])\n",
    "for rlvl in rlvls:\n",
    "    rlvllist.append(rlvl[0])\n",
    "    rlvllist.append(rlvl[1])\n",
    "rlvllist = np.array(rlvllist)\n",
    "\n",
    "sidlist = []\n",
    "sids = np.array(bd.data[\"paction_sids\"])\n",
    "for sid in sids:\n",
    "    sidlist.append(sid[0])\n",
    "    sidlist.append(sid[1])\n",
    "sidlist = np.array(sidlist)\n",
    "    \n",
    "conRs = rlvllist[sidlist < 9]\n",
    "mask = (sidlist < 13) & (sidlist > 8)\n",
    "exerRs = rlvllist[mask]\n",
    "knowRs = rlvllist[sidlist > 12]\n",
    "vals, counts = np.unique(conRs, return_counts=True)\n",
    "print(\"Consumption Response Levels:\", counts[1:])\n",
    "vals, counts = np.unique(exerRs, return_counts=True)\n",
    "print(\"Exercise Response Levels:\", counts[1:])\n",
    "vals, counts = np.unique(knowRs, return_counts=True)\n",
    "print(\"Knowledge Response Levels:\", counts[1:])    \n",
    "    \n",
    "vals, counts = np.unique(sidlist, return_counts=True)\n",
    "# print(vals)\n",
    "# print(counts.sum())\n",
    "for val, count in zip(vals, counts):\n",
    "    print(f\"{elem_map[val - 1]:30}:\\t{count}\")\n",
    "\n",
    "plt.ylabel(\"Response Rate\")\n",
    "plt.ylim(0, 1)\n",
    "plt.xlabel(\"Week (participant specific)\")\n",
    "plt.title(\"Weekly Response Rates\")\n",
    "plt.show()\n",
    "plt.clf()"
   ]
  },
  {
   "cell_type": "code",
   "execution_count": null,
   "id": "7ae7760b-b31d-482b-b44a-b4feae238dd8",
   "metadata": {
    "tags": []
   },
   "outputs": [],
   "source": [
    "# percs = bd.counts / 56\n",
    "print(bd.responseIdx)\n",
    "print(bd.featureList)\n",
    "print(bd.data['pid'][0])\n",
    "temp = bd.data[bd.data[\"pid\"] == 146518]\n",
    "print(temp['state'][0])\n",
    "print(temp['response'])\n",
    "print(temp['qids'])\n",
    "print(temp['pmsg_ids'])\n",
    "print(temp['paction_sids'])\n",
    "totalFeat = None\n",
    "print(bd.chunkedFeatures[-1][0, -12:])\n",
    "for feat in bd.chunkedFeatures:\n",
    "    if totalFeat is None:\n",
    "        totalFeat = feat.clone()\n",
    "    else:\n",
    "        totalFeat += feat\n",
    "print(totalFeat.std(axis=0))"
   ]
  },
  {
   "cell_type": "code",
   "execution_count": null,
   "id": "0e7e423f-94e2-4786-9a58-3614f6831a4a",
   "metadata": {
    "tags": []
   },
   "outputs": [],
   "source": [
    "tests = []\n",
    "trains = []\n",
    "for item in bd.test:\n",
    "    tests.append(bd.features[item].numpy())\n",
    "for item in bd.train:\n",
    "    trains.append(bd.features[item].numpy())\n",
    "\n",
    "tests = np.array(tests)\n",
    "trains = np.array(trains)\n",
    "print(tests.shape, trains.shape)\n",
    "\n",
    "x, y = 10, 1\n",
    "splot = plt.scatter(trains[:, x], trains[:, y], label=f\"Train\")\n",
    "splot = plt.scatter(tests[:, x], tests[:, y], label=f\"Test\")\n",
    "plt.title(\"Train/Test Distribution Checking\")\n",
    "plt.legend()\n",
    "plt.ylabel(f\"Feature {y}\")\n",
    "plt.xlabel(f\"Feature {x}\")\n",
    "plt.show()\n",
    "plt.savefig(\"simpleNotebookDistPlot.png\")\n",
    "plt.clf()\n",
    "\n",
    "splot = plt.boxplot([trains[:, x], tests[:, x]], labels=[\"Train\", \"Test\"])\n",
    "plt.legend()\n",
    "plt.ylabel(f\"Feature {x}\")\n",
    "plt.show()\n",
    "plt.savefig(\"simpleNotebookBoxPlot.png\")\n",
    "plt.clf()\n"
   ]
  },
  {
   "cell_type": "code",
   "execution_count": null,
   "id": "f8196d9e-564c-4e88-8d8b-a15daabfac5a",
   "metadata": {
    "tags": []
   },
   "outputs": [],
   "source": [
    "print(\"Percent of participants with 0 responses:\", (percs[percs == 0].count()) / len(percs))\n",
    "print(\"Percent of participants with >0 responses:\", (percs[percs != 0].count()) / len(percs))\n",
    "\n",
    "plt.hist(percs)\n",
    "plt.ylabel(\"No. Participants\")\n",
    "plt.xlabel(\"Response %\")\n",
    "plt.show()\n",
    "\n",
    "plt.clf()\n",
    "plt.ylabel(\"Response %\")\n",
    "asdf = plt.boxplot(percs)\n",
    "plt.show()\n",
    "print(percs.quantile([.1, .25, .53, .6, .65, .70, .75, .9]))"
   ]
  },
  {
   "cell_type": "code",
   "execution_count": null,
   "id": "10704e09-2c56-4ced-aa8c-b995f9dd0028",
   "metadata": {},
   "outputs": [],
   "source": [
    "print(bd.featureList)"
   ]
  },
  {
   "cell_type": "code",
   "execution_count": null,
   "id": "1909a070-dafd-4343-8c2f-53ad41f0e2f6",
   "metadata": {},
   "outputs": [],
   "source": []
  }
 ],
 "metadata": {
  "kernelspec": {
   "display_name": "Python 3",
   "language": "python",
   "name": "python3"
  },
  "language_info": {
   "codemirror_mode": {
    "name": "ipython",
    "version": 3
   },
   "file_extension": ".py",
   "mimetype": "text/x-python",
   "name": "python",
   "nbconvert_exporter": "python",
   "pygments_lexer": "ipython3",
   "version": "3.7.13"
  },
  "vscode": {
   "interpreter": {
    "hash": "f6e339f590beffb2e62e02c6be9b431caf4c76db3ef9baeb9786d6033ee27a03"
   }
  }
 },
 "nbformat": 4,
 "nbformat_minor": 5
}
