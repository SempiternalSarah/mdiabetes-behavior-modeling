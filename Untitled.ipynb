{
 "cells": [
  {
   "cell_type": "code",
   "execution_count": 2,
   "id": "fb460e57-5dae-4e36-8a40-966a09f7ed23",
   "metadata": {},
   "outputs": [
    {
     "data": {
      "text/plain": [
       "array([0, 0, 1])"
      ]
     },
     "execution_count": 2,
     "metadata": {},
     "output_type": "execute_result"
    }
   ],
   "source": [
    "import numpy as np\n",
    "\n",
    "def _padded_binary(a, b):\n",
    "    # helper function to binary encode a and \n",
    "    # pad it to be the length of encoded b\n",
    "    a, b = int(a), int(b)\n",
    "    l = len(format(b,\"b\"))\n",
    "    a = format(a,f\"0{l}b\")\n",
    "    return np.array([int(_) for _ in a])\n",
    "\n",
    "_padded_binary(1, 4)"
   ]
  },
  {
   "cell_type": "code",
   "execution_count": null,
   "id": "62d4ecbf-25cc-468b-a43d-2107646ef0f6",
   "metadata": {},
   "outputs": [],
   "source": []
  }
 ],
 "metadata": {
  "kernelspec": {
   "display_name": "Python 3",
   "language": "python",
   "name": "python3"
  },
  "language_info": {
   "codemirror_mode": {
    "name": "ipython",
    "version": 3
   },
   "file_extension": ".py",
   "mimetype": "text/x-python",
   "name": "python",
   "nbconvert_exporter": "python",
   "pygments_lexer": "ipython3",
   "version": "3.7.13"
  }
 },
 "nbformat": 4,
 "nbformat_minor": 5
}
