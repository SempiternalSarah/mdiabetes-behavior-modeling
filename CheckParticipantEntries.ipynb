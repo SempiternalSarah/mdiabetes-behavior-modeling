{
 "cells": [
  {
   "cell_type": "code",
   "execution_count": 1,
   "id": "19b7d55d-b41a-4880-8dd8-60d518f88db4",
   "metadata": {},
   "outputs": [],
   "source": [
    "import numpy as np\n",
    "\n",
    "joins = {}\n",
    "for week in range(2, 30):\n",
    "    data = np.loadtxt(f\"./local_storage/prod/responses/participant_responses_week_{week}.csv\", dtype=\"str\", delimiter=\",\", skiprows=1)\n",
    "    for pid in data[:, 0]:\n",
    "        if pid not in joins.keys():\n",
    "            joins[pid] = 32 - week\n",
    "    "
   ]
  },
  {
   "cell_type": "code",
   "execution_count": 5,
   "id": "1c870360-fe56-4233-8cb3-aa104661a431",
   "metadata": {},
   "outputs": [
    {
     "data": {
      "text/plain": [
       "{24: 80, 25: 61, 26: 56, 27: 50, 28: 74, 29: 122, 30: 107}"
      ]
     },
     "execution_count": 5,
     "metadata": {},
     "output_type": "execute_result"
    }
   ],
   "source": [
    "unique, counts = np.unique(list(joins.values()), return_counts=True)\n",
    "dict(zip(unique, counts))"
   ]
  },
  {
   "cell_type": "code",
   "execution_count": null,
   "id": "89a4ddda-227e-4982-b3ed-22eff5be6030",
   "metadata": {},
   "outputs": [],
   "source": []
  }
 ],
 "metadata": {
  "kernelspec": {
   "display_name": "Python 3",
   "language": "python",
   "name": "python3"
  },
  "language_info": {
   "codemirror_mode": {
    "name": "ipython",
    "version": 3
   },
   "file_extension": ".py",
   "mimetype": "text/x-python",
   "name": "python",
   "nbconvert_exporter": "python",
   "pygments_lexer": "ipython3",
   "version": "3.7.13"
  }
 },
 "nbformat": 4,
 "nbformat_minor": 5
}
