{
 "cells": [
  {
   "cell_type": "code",
   "execution_count": 1,
   "id": "b43b2b3f-7d43-48ee-aa54-c20d14438957",
   "metadata": {},
   "outputs": [],
   "source": [
    "from experiment import Experiment\n",
    "from utils.behavior_data import BehaviorData\n",
    "from visuals import Plotter\n",
    "import torch\n",
    "import numpy as np\n",
    "from utils.state_data import StateData\n",
    "import matplotlib.pyplot as plt"
   ]
  },
  {
   "cell_type": "code",
   "execution_count": 2,
   "id": "eda837d0-a2c7-477f-8e6f-2ba1bc573571",
   "metadata": {},
   "outputs": [
    {
     "name": "stdout",
     "output_type": "stream",
     "text": [
      "['state' 'state' 'state' 'state' 'state' 'state' 'state' 'state' 'state'\n",
      " 'state' 'state' 'state' 'state' 'state' 'state' 'state' 'state' 'state'\n",
      " 'state' 'state' 'state' 'state' 'pmsg_sids_last_0_q1'\n",
      " 'pmsg_sids_last_0_q1' 'pmsg_sids_last_0_q1' 'pmsg_sids_last_0_q1'\n",
      " 'pmsg_sids_last_0_q1' 'pmsg_sids_last_0_q2' 'pmsg_sids_last_0_q2'\n",
      " 'pmsg_sids_last_0_q2' 'pmsg_sids_last_0_q2' 'pmsg_sids_last_0_q2'\n",
      " 'paction_sids_last_0_q1' 'paction_sids_last_0_q1'\n",
      " 'paction_sids_last_0_q1' 'paction_sids_last_0_q1'\n",
      " 'paction_sids_last_0_q1' 'paction_sids_last_0_q2'\n",
      " 'paction_sids_last_0_q2' 'paction_sids_last_0_q2'\n",
      " 'paction_sids_last_0_q2' 'paction_sids_last_0_q2' 'pmsg_ids_last_0_q1'\n",
      " 'pmsg_ids_last_0_q1' 'pmsg_ids_last_0_q1' 'pmsg_ids_last_0_q1'\n",
      " 'pmsg_ids_last_0_q1' 'pmsg_ids_last_0_q1' 'pmsg_ids_last_0_q2'\n",
      " 'pmsg_ids_last_0_q2' 'pmsg_ids_last_0_q2' 'pmsg_ids_last_0_q2'\n",
      " 'pmsg_ids_last_0_q2' 'pmsg_ids_last_0_q2' 'qids_last_0_q1'\n",
      " 'qids_last_0_q1' 'qids_last_0_q1' 'qids_last_0_q1' 'qids_last_0_q1'\n",
      " 'qids_last_0_q1' 'qids_last_0_q2' 'qids_last_0_q2' 'qids_last_0_q2'\n",
      " 'qids_last_0_q2' 'qids_last_0_q2' 'qids_last_0_q2']\n",
      "[41.7132216  33.89199255 36.4990689  34.82309125 35.19553073 41.52700186\n",
      " 42.83054004 43.01675978 45.25139665 46.74115456 47.67225326 45.99627561\n",
      " 44.13407821 45.43761639 42.45810056 43.20297952 44.50651769 44.32029795\n",
      " 41.15456238 42.83054004 43.01675978 41.52700186 40.96834264 38.91992551]\n",
      "24\n",
      "[31.09869646 26.62942272 28.02607076 26.81564246 28.39851024 32.12290503\n",
      " 35.66108007 34.3575419  36.59217877 38.73370577 39.5716946  38.17504655\n",
      " 37.05772812 38.45437616 36.68528864 35.66108007 37.70949721 36.87150838\n",
      " 35.38175047 35.00931099 36.12662942 34.63687151 35.10242086 31.56424581]\n",
      "24\n"
     ]
    },
    {
     "data": {
      "text/plain": [
       "<Figure size 600x800 with 0 Axes>"
      ]
     },
     "metadata": {},
     "output_type": "display_data"
    }
   ],
   "source": [
    "elem_map = [\n",
    "      \"Healthy Fruits\",\n",
    "      \"Healthy Vegetables\",\n",
    "      \"Healthy Snacks/Breakfast\",\n",
    "      \"Healthy Other\",\n",
    "      \"Unhealthy Tobacco\",\n",
    "      \"Unhealthy Alcohol\",\n",
    "      \"Unhealthy Restaurant\",\n",
    "      \"Unhealthy Junk\",\n",
    "      \"Fitness Overall\",\n",
    "      \"Fitness Sports\",\n",
    "      \"Fitness Gym\",\n",
    "      \"Fitness Walking\",\n",
    "      \"Cause Knowledge Overall\",\n",
    "      \"Cause Weight\",\n",
    "      \"Cause Diet\",\n",
    "      \"Cause Exercise\",\n",
    "      \"Complication Knowledge\"\n",
    "]\n",
    "\n",
    "np.random.seed(2)\n",
    "torch.manual_seed(2)\n",
    "bd = BehaviorData(top_respond_perc=1.0, \n",
    "                  minw=2, \n",
    "                  maxw=31, \n",
    "                  include_state=True, \n",
    "                  include_pid=False, \n",
    "                  full_questionnaire=False, \n",
    "                  expanded_states=True, \n",
    "                  split_weekly_questions=False, \n",
    "                  split_model_features=False,\n",
    "                  num_weeks_history=1,\n",
    "                  category_specific_history=False)\n",
    "# print(bd.data[\"qids\"].counts)\n",
    "raw = False\n",
    "anyr = True\n",
    "\n",
    "counts = bd.get_weekly_response_rates(raw, anyr) * 100\n",
    "print(counts)\n",
    "print(len(counts))\n",
    "plt.rcParams[\"figure.figsize\"] = (6,8)\n",
    "splot = plt.barh(y=2+np.arange(len(counts)), width=counts, color=\"c\", height=.8)\n",
    "def barfmt(lab):\n",
    "    return f\"{lab:%.2%}\"\n",
    "plt.bar_label(splot, fmt=\"%.2f\", label_type=\"center\", color=\"black\", fontsize=12)\n",
    "\n",
    "plt.xlabel(\"% of Participants Who Responded\", fontsize=18)\n",
    "# plt.ylim(0, 1)\n",
    "plt.ylabel(\"Week (per participant)\", fontsize=18)\n",
    "plt.tick_params(labelsize=18)\n",
    "plt.xlim(right=50)\n",
    "plt.title(\"Participant Response Rates\", fontsize=18)\n",
    "plt.tight_layout()\n",
    "plt.savefig(\"ParticipantsWhoResponded.png\")\n",
    "plt.clf()\n",
    "\n",
    "raw = False\n",
    "anyr = False\n",
    "\n",
    "counts = bd.get_weekly_response_rates(raw, anyr) * 100\n",
    "print(counts)\n",
    "print(len(counts))\n",
    "splot = plt.barh(y=2+np.arange(len(counts)), width=counts, color=\"c\", height=.8)\n",
    "def barfmt(lab):\n",
    "    return f\"{lab:%.2%}\"\n",
    "plt.bar_label(splot, fmt=\"%.2f\", label_type=\"center\", color=\"black\", fontsize=12)\n",
    "\n",
    "plt.xlabel(\"Overall Response %\", fontsize=18)\n",
    "# plt.ylim(0, 1)\n",
    "plt.ylabel(\"Week (per participant)\", fontsize=18)\n",
    "plt.tick_params(labelsize=18)\n",
    "plt.xlim(right=50)\n",
    "plt.title(\"Response % Per Week\", fontsize=18)\n",
    "plt.tight_layout()\n",
    "plt.savefig(\"ResponseRateOverall.png\")\n",
    "plt.clf()"
   ]
  },
  {
   "cell_type": "code",
   "execution_count": null,
   "id": "11cc75a5-8f12-4a32-b247-326cec8a5fa2",
   "metadata": {},
   "outputs": [],
   "source": []
  }
 ],
 "metadata": {
  "kernelspec": {
   "display_name": "Python 3",
   "language": "python",
   "name": "python3"
  },
  "language_info": {
   "codemirror_mode": {
    "name": "ipython",
    "version": 3
   },
   "file_extension": ".py",
   "mimetype": "text/x-python",
   "name": "python",
   "nbconvert_exporter": "python",
   "pygments_lexer": "ipython3",
   "version": "3.7.13"
  }
 },
 "nbformat": 4,
 "nbformat_minor": 5
}
