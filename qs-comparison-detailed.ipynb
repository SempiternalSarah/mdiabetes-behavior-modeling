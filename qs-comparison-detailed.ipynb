{
 "cells": [
  {
   "cell_type": "code",
   "execution_count": 1,
   "id": "23791e19-fa29-4321-9a92-62c66249e206",
   "metadata": {
    "tags": []
   },
   "outputs": [],
   "source": [
    "from experiment import Experiment\n",
    "from utils.behavior_data import BehaviorData\n",
    "from utils.content import StatesHandler\n",
    "from visuals import Plotter\n",
    "import torch\n",
    "import numpy as np\n",
    "from utils.state_data import StateData\n",
    "import matplotlib.pyplot as plt\n",
    "from matplotlib.ticker import PercentFormatter"
   ]
  },
  {
   "cell_type": "code",
   "execution_count": 2,
   "id": "79ba3aa1-aadb-4e2c-a2e1-267a2951d18d",
   "metadata": {
    "tags": []
   },
   "outputs": [],
   "source": [
    "elem_map = [\n",
    "      \"Fruit Consumption\",\n",
    "      \"Veg. Consumption Avg.\",\n",
    "      \"Veg. Consumption Recent\",\n",
    "      \"High Fat Food Avoidance\",\n",
    "      \"Sports Activity\",\n",
    "      \"Formal Workouts\",\n",
    "      \"Walking\",\n",
    "      \"Sports/Workout/Walking\",\n",
    "      \"Daily Avg. Exercise Time\",\n",
    "      \"Incidental Exercise\",\n",
    "      \"Cause Knowledge\",\n",
    "      \"Complication Knowledge\"\n",
    "]\n",
    "\n",
    "\n",
    "ageMatching = [0, 1, 2, 3]\n",
    "# ageMatching = [2, 3]\n",
    "# ageMatching = [0, 1]\n",
    "\n",
    "# genderMatching = [1]\n",
    "genderMatching = [1, 3]\n",
    "# genderMatching = [3]\n",
    "\n",
    "incomeMatching = [1, 3]\n",
    "# incomeMatching = [1]\n",
    "# incomeMatching = [3]\n",
    "\n",
    "educationMatching = [0, 1, 2, 3]\n",
    "# educationMatching = [0]\n",
    "# educationMatching = [1, 2, 3]\n",
    "\n",
    "\n",
    "respondPerc = 0.3"
   ]
  },
  {
   "cell_type": "code",
   "execution_count": 3,
   "id": "6f01f874-c908-474d-b203-309f5be9bc3f",
   "metadata": {
    "tags": []
   },
   "outputs": [],
   "source": [
    "def sub_adj(**kw):\n",
    "    cf = {\"wspace\": 0.2, \"hspace\": 0.2}\n",
    "    cf.update(**kw)\n",
    "    plt.subplots_adjust(**cf)\n",
    "\n",
    "def ticks(*aa, x=True, y=True, **kw):\n",
    "    cf = {\"rotation\": 0, \"labelsize\": 14}\n",
    "    for a in aa:\n",
    "        if x:\n",
    "            a.tick_params(axis=\"x\", **cf)\n",
    "        if y:\n",
    "            a.tick_params(axis=\"y\", **cf)\n",
    "            \n",
    "\n",
    "def label(ax, i, l, numTitleLines = 2):\n",
    "    offset = 5 * numTitleLines\n",
    "    cf = {\"position\": (5, .99), \"rotation\": \"horizontal\", \"ha\": \"right\", \"va\": \"top\",\n",
    "          \"labelpad\": -265 + offset, \"fontsize\": 14}\n",
    "    if i < 0:\n",
    "        ax.set_ylabel(l, **cf)\n",
    "    else:\n",
    "        ax[i].set_ylabel(l, **cf)  "
   ]
  },
  {
   "cell_type": "code",
   "execution_count": 4,
   "id": "d1886619-4fe0-4e00-8113-4d8d54e6806e",
   "metadata": {
    "tags": []
   },
   "outputs": [],
   "source": [
    "    \n",
    "def calc_graph_name():\n",
    "    name = \"\"\n",
    "    title = \"\"\n",
    "    if (respondPerc == .3):\n",
    "        title += \">50% Response Rate\\n\"\n",
    "    elif (respondPerc == .47):\n",
    "        title += \">25% Response Rate\\n\"\n",
    "    else:\n",
    "        title += f\"Top {respondPerc:.0%} Responders\\n\"\n",
    "    name += f\"Top{respondPerc}\"\n",
    "    if 1 in genderMatching and 3 in genderMatching:\n",
    "        None\n",
    "    elif 1 in genderMatching:\n",
    "            name += \"M\"\n",
    "            title += \" Male\"\n",
    "    else:\n",
    "        name += \"F\"\n",
    "        title += \" Female\"\n",
    "    \n",
    "    if 0 in ageMatching and 1 in ageMatching and 2 in ageMatching and 3 in ageMatching:\n",
    "        None\n",
    "    elif 0 in ageMatching and 1 in ageMatching:\n",
    "        name += \"18-35\"\n",
    "        title += \" 18-35\"\n",
    "    elif 0 in ageMatching:\n",
    "        name += \"18-25\"\n",
    "        title += \" 18-25\"\n",
    "    elif 1 in ageMatching:\n",
    "        name += \"26-35\"\n",
    "        title += \" 26-35\"\n",
    "    elif 2 in ageMatching and 3 in ageMatching:\n",
    "        name += \"35+\"\n",
    "        title += \" 35+\"\n",
    "    elif 2 in ageMatching:\n",
    "        name += \"35-50\"\n",
    "        title += \" 35-50\"\n",
    "    elif 3 in ageMatching:\n",
    "        name += \"51+\"\n",
    "        title += \" 51+\"\n",
    "    \n",
    "    if 1 in incomeMatching and 3 in incomeMatching:\n",
    "        None\n",
    "    elif 3 in incomeMatching:\n",
    "        name += \"Inc\"\n",
    "        title += \" Income\"\n",
    "    elif 1 in incomeMatching:\n",
    "        name += \"NoInc\"\n",
    "        title += \" No Income\"\n",
    "        \n",
    "    if 0 in educationMatching and 1 in educationMatching and 2 in educationMatching and 3 in educationMatching:\n",
    "        None\n",
    "    elif 1 in educationMatching and 2 in educationMatching and 3 in educationMatching:\n",
    "        name += \"MoreEd\"\n",
    "        title += \" Some Higher Ed.+\"\n",
    "    elif 0 in educationMatching:\n",
    "        name += \"SomeEd\"\n",
    "        title += \" Some Ed.\"\n",
    "    elif 1 in educationMatching:\n",
    "        name += \"SomeHigherEd\"\n",
    "        title += \"Some Higher Ed.\"\n",
    "    elif 2 in educationMatching:\n",
    "        name += \"Degree\"\n",
    "        title += \" Degree\"\n",
    "    elif 3 in educationMatching:\n",
    "        name += \"PostGrad\"\n",
    "        name += \" Post Grad Ed.\"\n",
    "    \n",
    "    name += \".png\"\n",
    "        \n",
    "    return name, title\n",
    "\n",
    "def plot_state_elem_running_change(data, title=\"Individual Participant Changes\", name=\"BarChange\", aiset=True, dataSubset=[]):\n",
    "    numFigs = len(dataSubset)\n",
    "    if numFigs == 0:\n",
    "        numFigs = len(data[0])\n",
    "        dataSubset = np.arange(numFigs)\n",
    "    plt.clf()\n",
    "    L = len(data)\n",
    "    \n",
    "    if (aiset):\n",
    "        title += \"\\nAI Group\\n\"\n",
    "        name += f\"Top{respondPerc}\"\n",
    "    else:\n",
    "        title += f\"\\nNon AI Group\\n\"\n",
    "        name += \"Base\"\n",
    "    if 1 in genderMatching and 3 in genderMatching:\n",
    "        None\n",
    "    elif 1 in genderMatching:\n",
    "        name += \"M\"\n",
    "        title += \" Male\"\n",
    "    else:\n",
    "        name += \"F\"\n",
    "        title += \" Female\"\n",
    "        \n",
    "    if 1 in ageMatching and 2 in ageMatching and 3 in ageMatching and 0 in ageMatching:\n",
    "        None\n",
    "    elif 0 in ageMatching and 1 in ageMatching:\n",
    "        name += \"18-35\"\n",
    "        title += \" 18-35\"\n",
    "    elif 0 in ageMatching:\n",
    "        name += \"18-25\"\n",
    "        title += \" 18-25\"\n",
    "    elif 1 in ageMatching:\n",
    "        name += \"26-35\"\n",
    "        title += \" 26-35\"\n",
    "    elif 2 in ageMatching and 3 in ageMatching:\n",
    "        name += \"35+\"\n",
    "        title += \" 35+\"\n",
    "    elif 2 in ageMatching:\n",
    "        name += \"35-50\"\n",
    "        title += \" 35-50\"\n",
    "    elif 3 in ageMatching:\n",
    "        name += \"51+\"\n",
    "        title += \" 51+\"\n",
    "    \n",
    "    if 1 in incomeMatching and 3 in incomeMatching:\n",
    "        None\n",
    "    elif 3 in incomeMatching:\n",
    "        name += \"Inc\"\n",
    "        title += \" Income\"\n",
    "    elif 1 in incomeMatching:\n",
    "        name += \"NoInc\"\n",
    "        title += \" No Income\"\n",
    "        \n",
    "    if 0 in educationMatching and 1 in educationMatching and 2 in educationMatching and 3 in educationMatching:\n",
    "        None\n",
    "    elif 1 in educationMatching and 2 in educationMatching and 3 in educationMatching:\n",
    "        name += \"MoreEd\"\n",
    "        title += \" Some Higher Ed.+\"\n",
    "    elif 0 in educationMatching:\n",
    "        name += \"SomeEd\"\n",
    "        title += \" Some Ed.\"\n",
    "    elif 1 in educationMatching:\n",
    "        name += \"SomeHigherEd\"\n",
    "        title += \"Some Higher Ed.\"\n",
    "    elif 2 in educationMatching:\n",
    "        name += \"Degree\"\n",
    "        title += \" Degree\"\n",
    "    elif 3 in educationMatching:\n",
    "        name += \"PostGrad\"\n",
    "        name += \" Post Grad Ed.\"\n",
    "            \n",
    "    if title.endswith(\"\\n\"):\n",
    "        title = title[0:-1]\n",
    "    \n",
    "    \n",
    "    \n",
    "    fig, ax = plt.subplots(nrows=numFigs, figsize=(4,1.5+2.1*numFigs))\n",
    "    x = np.arange(L)\n",
    "    for i, elem in enumerate(dataSubset):\n",
    "        diff = data[:, elem]\n",
    "        diff = np.sort(diff)[::-1]\n",
    "        C = np.array([\"r\"] * diff.shape[0])\n",
    "        imp = diff > 0\n",
    "        dec = diff < 0\n",
    "        imp_perc = imp.sum() / imp.shape[0]\n",
    "        dec_perc = dec.sum() / dec.shape[0]\n",
    "        C[imp] = \"c\"\n",
    "        C[dec] = \"r\"\n",
    "        imp_stop = np.where(imp==True)[0][-1]\n",
    "        dec_start = np.where(dec==True)[0][0]\n",
    "        if (numFigs > 1):\n",
    "            thisPlot = ax[i]\n",
    "        else:\n",
    "            thisPlot = ax\n",
    "        thisPlot.axvline(imp_stop+.4, alpha=0.8, ymin=0.5, linestyle=\"--\", color=\"c\", label=\"Improvement\")\n",
    "        thisPlot.axvline(dec_start-.4, alpha=0.8, ymax=0.5, linestyle=\"--\", color=\"r\", label=\"Deterioration\")\n",
    "        thisPlot.axhline(diff.mean(), xmin=0, xmax=1, color=\"violet\", linestyle=\"-.\", label=f\"Mean\\n={diff.mean():.3f}\")\n",
    "        thisPlot.text(int(imp.sum()*.85), -.45, f\"{imp_perc*100:.1f}%\", fontsize=14)\n",
    "        thisPlot.text((~dec).sum(), .3, f\"{dec_perc*100:.1f}%\", fontsize=14)\n",
    "        thisPlot.bar(x, diff, color=C)\n",
    "        thisPlot.set_ylim((-2,2))\n",
    "        if (numFigs > 1):\n",
    "            label(ax, i, elem_map[elem], 1 + title.count(\"\\n\"))\n",
    "        else:\n",
    "            label(ax, -1, elem_map[elem], 1 + title.count(\"\\n\"))\n",
    "        thisPlot.axhline(0, alpha=0.8, linestyle=\"--\", color=\"k\")\n",
    "        if i < (L-1):\n",
    "            thisPlot.get_xaxis().set_visible(False)\n",
    "        thisPlot.legend(loc=\"lower left\", ncol=2, columnspacing=0.1, borderpad=0.1, labelspacing=0.1, handletextpad=0.05, borderaxespad=0.1, fontsize=13.5)\n",
    "        if i == (L-1):\n",
    "            thisPlot.set_xlabel(\"Participant ID\")\n",
    "        ticks(thisPlot)\n",
    "        \n",
    "    sub_adj()\n",
    "\n",
    "    if numFigs > 1:\n",
    "        ax[0].set_title(title, fontsize=14)\n",
    "    else:\n",
    "        ax.set_title(title, fontsize=14)\n",
    "    fig.tight_layout()\n",
    "    fig.savefig(f\"./imgDet/{name}.png\")\n",
    "    plt.clf()"
   ]
  },
  {
   "cell_type": "code",
   "execution_count": 5,
   "id": "4e76f469-f5a2-4f93-8345-ed92d4683150",
   "metadata": {
    "tags": []
   },
   "outputs": [
    {
     "name": "stdout",
     "output_type": "stream",
     "text": [
      "480\n",
      "806\n",
      "['state' 'state' 'state' 'state' 'state' 'state' 'state' 'state' 'state'\n",
      " 'state' 'state' 'state' 'state' 'state' 'state' 'state' 'state' 'state'\n",
      " 'state' 'state' 'state' 'state' 'pmsg_sids_last_0_q1'\n",
      " 'pmsg_sids_last_0_q1' 'pmsg_sids_last_0_q1' 'pmsg_sids_last_0_q1'\n",
      " 'pmsg_sids_last_0_q1' 'pmsg_sids_last_0_q2' 'pmsg_sids_last_0_q2'\n",
      " 'pmsg_sids_last_0_q2' 'pmsg_sids_last_0_q2' 'pmsg_sids_last_0_q2'\n",
      " 'paction_sids_last_0_q1' 'paction_sids_last_0_q1'\n",
      " 'paction_sids_last_0_q1' 'paction_sids_last_0_q1'\n",
      " 'paction_sids_last_0_q1' 'paction_sids_last_0_q2'\n",
      " 'paction_sids_last_0_q2' 'paction_sids_last_0_q2'\n",
      " 'paction_sids_last_0_q2' 'paction_sids_last_0_q2' 'pmsg_ids_last_0_q1'\n",
      " 'pmsg_ids_last_0_q1' 'pmsg_ids_last_0_q1' 'pmsg_ids_last_0_q1'\n",
      " 'pmsg_ids_last_0_q1' 'pmsg_ids_last_0_q1' 'pmsg_ids_last_0_q2'\n",
      " 'pmsg_ids_last_0_q2' 'pmsg_ids_last_0_q2' 'pmsg_ids_last_0_q2'\n",
      " 'pmsg_ids_last_0_q2' 'pmsg_ids_last_0_q2' 'qids_last_0_q1'\n",
      " 'qids_last_0_q1' 'qids_last_0_q1' 'qids_last_0_q1' 'qids_last_0_q1'\n",
      " 'qids_last_0_q1' 'qids_last_0_q2' 'qids_last_0_q2' 'qids_last_0_q2'\n",
      " 'qids_last_0_q2' 'qids_last_0_q2' 'qids_last_0_q2' 'q1_cat' 'q1_cat'\n",
      " 'q2_cat' 'q2_cat']\n",
      "144\n"
     ]
    }
   ],
   "source": [
    "def load_questionnaire_states(endline=False, detail=0, aiset=True):\n",
    "        if (detail > 2):\n",
    "            sh = StatesHandler(map=\"map_questionnaire_final.json\", endline=endline)\n",
    "        elif (detail > 1):\n",
    "            sh = StatesHandler(map=\"map_individual.json\", endline=endline)\n",
    "        elif (detail > 0):\n",
    "            sh = StatesHandler(map=\"map_detailed.json\", endline=endline)\n",
    "        elif (detail > -1):\n",
    "            sh = StatesHandler(map=\"map.json\", endline=endline)\n",
    "        else:\n",
    "            sh = StatesHandler(map=\"map_traditional.json\", endline=endline)\n",
    "        whatsapps, states, slist = sh.compute_states()\n",
    "        def modify_whatsapp(x):\n",
    "            # helper function to parse the whatsapp numbers\n",
    "            x = str(x)\n",
    "            x = x[len(x)-10:]\n",
    "            return int(x)\n",
    "        participantIDs = torch.tensor(np.loadtxt(\"arogya_content/all_ai_participants.csv\", delimiter=\",\", skiprows=1, dtype=\"int64\"))\n",
    "        participantIDs[:, 1].apply_(modify_whatsapp)\n",
    "        \n",
    "        # filter responses to only include ones in the AI participant set\n",
    "        isect, idIdxs, stateIdxs = np.intersect1d(participantIDs[:, 1], whatsapps, return_indices=True)\n",
    "        if (aiset):\n",
    "            # combine the glific IDs with the states into a dictionary and return\n",
    "            return dict(zip(participantIDs[idIdxs, 0].numpy(), states[stateIdxs].numpy()))\n",
    "        else:\n",
    "            stats = np.delete(states.numpy(), stateIdxs, axis=0)\n",
    "            wapps = np.delete(whatsapps.numpy(), stateIdxs)\n",
    "            return dict(zip(wapps, stats))\n",
    "        \n",
    "post = load_questionnaire_states(True, 3, True)\n",
    "print(len(post))\n",
    "pre = load_questionnaire_states(False, 3, True)\n",
    "print(len(pre))\n",
    "\n",
    "\n",
    "diffs = []\n",
    "demos = []\n",
    "\n",
    "bd = BehaviorData(minw=2, maxw=31, include_state=True, include_pid=False, top_respond_perc=respondPerc)\n",
    "\n",
    "for glifid in post.keys():\n",
    "    if glifid in pre and glifid in bd.data['pid'].to_numpy():\n",
    "        diffs.append(post[glifid] - pre[glifid])\n",
    "        demos.append(pre[glifid][-5:])\n",
    "    else:\n",
    "        None\n",
    "        #print(glifid)\n",
    "    \n",
    "print(len(diffs))\n",
    "\n",
    "demos = np.array(demos)\n",
    "allDiffValsAI = np.array(diffs)[:, 0:-5]"
   ]
  },
  {
   "cell_type": "code",
   "execution_count": 6,
   "id": "2ecdfce3-2650-4d76-b0b9-822d8a3e51f5",
   "metadata": {},
   "outputs": [
    {
     "name": "stdout",
     "output_type": "stream",
     "text": [
      "Age brackets (18-25, 26-35, 36-50, 51+):  [39 46 49 10]\n",
      "Gender (M, F):  [68 76]\n",
      "Income (N, Y):  [ 16 128]\n",
      "Education (Some, Some Higher, Degree, PostGrad):  [54 42 30 18]\n",
      "144\n"
     ]
    }
   ],
   "source": [
    "ages, counts = np.unique(demos[:, 0], return_counts=True)\n",
    "print(\"Age brackets (18-25, 26-35, 36-50, 51+): \", counts)\n",
    "genders, counts = np.unique(demos[:, 1], return_counts=True)\n",
    "print(\"Gender (M, F): \", counts)\n",
    "incomes, counts = np.unique(demos[:, 3], return_counts=True)\n",
    "print(\"Income (N, Y): \", counts)\n",
    "edus, counts = np.unique(demos[:, 4], return_counts=True)\n",
    "print(\"Education (Some, Some Higher, Degree, PostGrad): \", counts)\n",
    "# fig, ax = plt.subplots(nrows=1, ncols=1, figsize=(4, 4));\n",
    "# ax.boxplot(demos[:, 0], meanline=True, showmeans=True);\n",
    "# ax.set(title=\"Age\")\n",
    "ageMatch = np.isin(demos[:, 0], ageMatching)\n",
    "genderMatch = np.isin(demos[:, 1], genderMatching)\n",
    "allMatch = ageMatch & genderMatch\n",
    "incomeMatch = np.isin(demos[:, 3], incomeMatching)\n",
    "allMatch = allMatch & incomeMatch\n",
    "eduMatch = np.isin(demos[:, 4], educationMatching)\n",
    "allMatch = allMatch & eduMatch\n",
    "\n",
    "diffValsAI = allDiffValsAI[allMatch]\n",
    "\n",
    "print(len(diffValsAI))"
   ]
  },
  {
   "cell_type": "code",
   "execution_count": 7,
   "id": "214de9bb-6cf1-4499-856d-eb12015e77f3",
   "metadata": {},
   "outputs": [
    {
     "name": "stdout",
     "output_type": "stream",
     "text": [
      "568\n",
      "807\n",
      "441\n"
     ]
    }
   ],
   "source": [
    "post = load_questionnaire_states(True, 3, False)\n",
    "print(len(post))\n",
    "pre = load_questionnaire_states(False, 3, False)\n",
    "print(len(pre))\n",
    "\n",
    "\n",
    "diffs = []\n",
    "demos = []\n",
    "\n",
    "for glifid in post.keys():\n",
    "    if glifid in pre:\n",
    "        diffs.append(post[glifid] - pre[glifid])\n",
    "        demos.append(pre[glifid][-5:])\n",
    "    else:\n",
    "        None\n",
    "        \n",
    "allDiffValsNAI = np.array(diffs)[:, 0:-5]\n",
    "demos = np.array(demos)\n",
    "print(len(diffs))"
   ]
  },
  {
   "cell_type": "code",
   "execution_count": 8,
   "id": "3220ffa6-d2c4-41b8-bb9d-847aaf8cce0c",
   "metadata": {},
   "outputs": [
    {
     "name": "stdout",
     "output_type": "stream",
     "text": [
      "Age brackets (18-25, 26-35, 36-50, 51+):  [114 141 155  31]\n",
      "Gender (M, F):  [165 276]\n",
      "Income (N, Y):  [ 97 344]\n",
      "Education (Some, Some Higher, Degree, PostGrad):  [212 118  76  35]\n",
      "441\n"
     ]
    }
   ],
   "source": [
    "ages, counts = np.unique(demos[:, 0], return_counts=True)\n",
    "print(\"Age brackets (18-25, 26-35, 36-50, 51+): \", counts)\n",
    "genders, counts = np.unique(demos[:, 1], return_counts=True)\n",
    "print(\"Gender (M, F): \", counts)\n",
    "incomes, counts = np.unique(demos[:, 3], return_counts=True)\n",
    "print(\"Income (N, Y): \", counts)\n",
    "edus, counts = np.unique(demos[:, 4], return_counts=True)\n",
    "print(\"Education (Some, Some Higher, Degree, PostGrad): \", counts)\n",
    "# fig, ax = plt.subplots(nrows=1, ncols=1, figsize=(4, 4));\n",
    "# ax.boxplot(demos[:, 0], meanline=True, showmeans=True);\n",
    "# ax.set(title=\"Age\")\n",
    "ageMatch = np.isin(demos[:, 0], ageMatching)\n",
    "genderMatch = np.isin(demos[:, 1], genderMatching)\n",
    "allMatch = ageMatch & genderMatch\n",
    "incomeMatch = np.isin(demos[:, 3], incomeMatching)\n",
    "allMatch = allMatch & incomeMatch\n",
    "eduMatch = np.isin(demos[:, 4], educationMatching)\n",
    "allMatch = allMatch & eduMatch\n",
    "diffValsNAI = allDiffValsNAI[allMatch]\n",
    "\n",
    "print(len(diffValsNAI))"
   ]
  },
  {
   "cell_type": "code",
   "execution_count": 9,
   "id": "11c566c4-3d56-4be3-84b0-873593fb5ea3",
   "metadata": {},
   "outputs": [
    {
     "name": "stdout",
     "output_type": "stream",
     "text": [
      "Component                                         \tBaseline Mean  \tAI Mean   \n",
      "_____________________________________________________________________________________________\n",
      "Fruit Consumption                                 :\t-0.06803,\t-0.04861\n",
      "Veg. Consumption Avg.                             :\t-0.01474,\t-0.07639\n",
      "Veg. Consumption Recent                           :\t0.01361,\t-0.02083\n",
      "High Fat Food Avoidance                           :\t0.07256,\t0.23611\n",
      "Sports Activity                                   :\t0.13379,\t0.17361\n",
      "Formal Workouts                                   :\t0.19274,\t0.19444\n",
      "Walking                                           :\t0.05896,\t0.00000\n",
      "Sports/Workout/Walking                            :\t0.12850,\t0.12269\n",
      "Daily Avg. Exercise Time                          :\t0.35147,\t0.36806\n",
      "Incidental Exercise                               :\t-0.02222,\t0.08750\n",
      "Cause Knowledge                                   :\t0.24414,\t0.38657\n",
      "Complication Knowledge                            :\t0.16516,\t0.15625\n"
     ]
    },
    {
     "data": {
      "text/plain": [
       "<Figure size 640x480 with 0 Axes>"
      ]
     },
     "metadata": {},
     "output_type": "display_data"
    },
    {
     "data": {
      "text/plain": [
       "<Figure size 400x780 with 0 Axes>"
      ]
     },
     "metadata": {},
     "output_type": "display_data"
    },
    {
     "data": {
      "text/plain": [
       "<Figure size 400x780 with 0 Axes>"
      ]
     },
     "metadata": {},
     "output_type": "display_data"
    },
    {
     "data": {
      "text/plain": [
       "<Figure size 400x570 with 0 Axes>"
      ]
     },
     "metadata": {},
     "output_type": "display_data"
    },
    {
     "data": {
      "text/plain": [
       "<Figure size 400x570 with 0 Axes>"
      ]
     },
     "metadata": {},
     "output_type": "display_data"
    },
    {
     "data": {
      "text/plain": [
       "<Figure size 400x780 with 0 Axes>"
      ]
     },
     "metadata": {},
     "output_type": "display_data"
    },
    {
     "data": {
      "text/plain": [
       "<Figure size 400x780 with 0 Axes>"
      ]
     },
     "metadata": {},
     "output_type": "display_data"
    },
    {
     "data": {
      "text/plain": [
       "<Figure size 800x2500 with 0 Axes>"
      ]
     },
     "metadata": {},
     "output_type": "display_data"
    },
    {
     "data": {
      "text/plain": [
       "<Figure size 800x2500 with 0 Axes>"
      ]
     },
     "metadata": {},
     "output_type": "display_data"
    },
    {
     "data": {
      "text/plain": [
       "<Figure size 400x2500 with 0 Axes>"
      ]
     },
     "metadata": {},
     "output_type": "display_data"
    }
   ],
   "source": [
    "# plot_state_elem_running_change(diffValsAI, aiset=True)\n",
    "# plot_state_elem_running_change(diffValsNAI, aiset=False)\n",
    "\n",
    "plot_state_elem_running_change(diffValsAI, aiset=True, dataSubset=[3, 0, 1], name=\"Consumption\")\n",
    "plot_state_elem_running_change(diffValsNAI, aiset=False, dataSubset=[3, 0, 1], name=\"Consumption\")\n",
    "\n",
    "plot_state_elem_running_change(diffValsAI, aiset=True, dataSubset=[10, 11], name=\"Knowledge\")\n",
    "plot_state_elem_running_change(diffValsNAI, aiset=False, dataSubset=[10, 11], name=\"Knowledge\")\n",
    "\n",
    "# plot_state_elem_running_change(diffValsAI, aiset=True, dataSubset=[3, 8, 9, 10], name=\"Summary\")\n",
    "# plot_state_elem_running_change(diffValsNAI, aiset=False, dataSubset=[3, 8, 9, 10], name=\"Summary\")\n",
    "\n",
    "plot_state_elem_running_change(diffValsAI, aiset=True, dataSubset=[8, 9, 7], name=\"Exercise\")\n",
    "plot_state_elem_running_change(diffValsNAI, aiset=False, dataSubset=[8, 9, 7], name=\"Exercise\")\n",
    "\n",
    "# plot_state_elem_running_change(diffValsAI, aiset=True, dataSubset=[9], name=\"ExerciseInc\")\n",
    "# plot_state_elem_running_change(diffValsNAI, aiset=False, dataSubset=[9], name=\"ExerciseInc\")\n",
    "\n",
    "# plot_state_elem_running_change(diffValsAI, aiset=True, dataSubset=[8, 9], name=\"AvgEx\")\n",
    "# plot_state_elem_running_change(diffValsNAI, aiset=False, dataSubset=[8, 9], name=\"AvgEx\")\n",
    "\n",
    "diffMeansAI = diffValsAI.mean(axis=0)\n",
    "diffMeansNAI = diffValsNAI.mean(axis=0)\n",
    "\n",
    "print(f'{\"Component\":50}\\t{\"Baseline Mean\":15}\\t{\"AI Mean\":10}')\n",
    "\n",
    "print(\"_____________________________________________________________________________________________\")\n",
    "\n",
    "for x in range(len(elem_map)):\n",
    "    print(f'{elem_map[x]:50}:\\t{diffMeansNAI[x]:.5f},\\t{diffMeansAI[x]:.5f}')\n",
    "    \n",
    "\n",
    "nameString, titleString = calc_graph_name()\n",
    "\n",
    "\n",
    "fig, ax = plt.subplots(nrows=len(elem_map), ncols=2, sharey=\"row\", figsize=(8, 25));\n",
    "for x in range(len(elem_map)):\n",
    "    ax[x, 0].boxplot(diffValsNAI[:, x], meanline=True, showmeans=True);\n",
    "    ax[x, 0].set(title=\"Base \" + elem_map[x], ylabel=\"Change\")\n",
    "    ax[x, 1].boxplot(diffValsAI[:, x], meanline=True, showmeans=True);\n",
    "    ax[x, 1].set(title=\"AI \" + elem_map[x], ylabel=\"Change\")\n",
    "plt.subplots_adjust(hspace=.25, wspace=.5)\n",
    "fig.suptitle(titleString, fontsize=14, verticalalignment='top')\n",
    "fig.tight_layout(rect=[0, 0, 1, 0.99])\n",
    "fig.savefig(f\"./imgDet/Box{nameString}\")\n",
    "plt.clf()\n",
    "\n",
    "\n",
    "fig, ax = plt.subplots(nrows=len(elem_map), ncols=2, figsize=(8, 25));\n",
    "for x in range(len(elem_map)):\n",
    "    ax[x, 0].hist(diffValsNAI[:, x], weights = np.ones(len(diffValsNAI[:, x])) / len(diffValsNAI[:, x]));\n",
    "    ax[x, 0].set(title=\"Base \" + elem_map[x], xlabel=\"Change\")\n",
    "    ax[x, 0].yaxis.set_major_formatter(PercentFormatter(1))\n",
    "    ax[x, 1].hist(diffValsAI[:, x], weights = np.ones(len(diffValsAI[:, x])) / len(diffValsAI[:, x]));\n",
    "    ax[x, 1].set(title=\"AI \" + elem_map[x], xlabel=\"Change\")\n",
    "    ax[x, 1].yaxis.set_major_formatter(PercentFormatter(1))\n",
    "plt.subplots_adjust(hspace=.30, wspace=.5)\n",
    "fig.suptitle(titleString, fontsize=14, verticalalignment='top')\n",
    "fig.tight_layout(rect=[0, 0, 1, .99])\n",
    "fig.savefig(f\"./imgDet/Hist{nameString}\")\n",
    "plt.clf()\n",
    "\n",
    "\n",
    "\n",
    "fig, ax = plt.subplots(nrows=len(elem_map), ncols=1, figsize=(4, 25));\n",
    "for x in range(len(elem_map)):\n",
    "    ax[x].hist([diffValsNAI[:, x], diffValsAI[:, x]], color=['tan', 'blue'], label=['Base', 'AI'], stacked=False, weights = [np.ones(len(diffValsNAI[:, x])) / len(diffValsNAI[:, x]), np.ones(len(diffValsAI[:, x])) / len(diffValsAI[:, x])]);\n",
    "    ax[x].set(title=elem_map[x], xlabel=\"Change\")\n",
    "    ax[x].yaxis.set_major_formatter(PercentFormatter(1))\n",
    "    ax[x].legend()\n",
    "plt.subplots_adjust(hspace=.40, wspace=.25)\n",
    "fig.suptitle(titleString, fontsize=14, verticalalignment='top')\n",
    "fig.tight_layout(rect=[0, 0, 1, 0.99])\n",
    "fig.savefig(f\"./imgDet/BothHist{nameString}\")\n",
    "plt.clf()\n"
   ]
  },
  {
   "cell_type": "code",
   "execution_count": null,
   "id": "9cd546da-f9c8-4930-9919-4fedbdba05df",
   "metadata": {},
   "outputs": [],
   "source": []
  }
 ],
 "metadata": {
  "kernelspec": {
   "display_name": "Python 3",
   "language": "python",
   "name": "python3"
  },
  "language_info": {
   "codemirror_mode": {
    "name": "ipython",
    "version": 3
   },
   "file_extension": ".py",
   "mimetype": "text/x-python",
   "name": "python",
   "nbconvert_exporter": "python",
   "pygments_lexer": "ipython3",
   "version": "3.7.13"
  },
  "vscode": {
   "interpreter": {
    "hash": "f6e339f590beffb2e62e02c6be9b431caf4c76db3ef9baeb9786d6033ee27a03"
   }
  }
 },
 "nbformat": 4,
 "nbformat_minor": 5
}
